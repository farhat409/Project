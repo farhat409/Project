{
 "cells": [
  {
   "cell_type": "code",
   "execution_count": 1,
   "id": "f2a7ee0d",
   "metadata": {
    "ExecuteTime": {
     "end_time": "2022-03-13T17:15:38.559524Z",
     "start_time": "2022-03-13T17:15:34.529005Z"
    }
   },
   "outputs": [
    {
     "ename": "ModuleNotFoundError",
     "evalue": "No module named 'pandas_profiling'",
     "output_type": "error",
     "traceback": [
      "\u001b[1;31m---------------------------------------------------------------------------\u001b[0m",
      "\u001b[1;31mModuleNotFoundError\u001b[0m                       Traceback (most recent call last)",
      "\u001b[1;32m<ipython-input-1-e2c7cdeec9f9>\u001b[0m in \u001b[0;36m<module>\u001b[1;34m\u001b[0m\n\u001b[0;32m      4\u001b[0m \u001b[1;32mimport\u001b[0m \u001b[0mnumpy\u001b[0m \u001b[1;32mas\u001b[0m \u001b[0mnp\u001b[0m\u001b[1;33m\u001b[0m\u001b[1;33m\u001b[0m\u001b[0m\n\u001b[0;32m      5\u001b[0m \u001b[1;32mimport\u001b[0m \u001b[0mmatplotlib\u001b[0m\u001b[1;33m.\u001b[0m\u001b[0mpyplot\u001b[0m \u001b[1;32mas\u001b[0m \u001b[0mplt\u001b[0m\u001b[1;33m\u001b[0m\u001b[1;33m\u001b[0m\u001b[0m\n\u001b[1;32m----> 6\u001b[1;33m \u001b[1;32mfrom\u001b[0m \u001b[0mpandas_profiling\u001b[0m \u001b[1;32mimport\u001b[0m \u001b[0mProfileReport\u001b[0m \u001b[1;32mas\u001b[0m \u001b[0mPR\u001b[0m\u001b[1;33m\u001b[0m\u001b[1;33m\u001b[0m\u001b[0m\n\u001b[0m\u001b[0;32m      7\u001b[0m \u001b[1;32mimport\u001b[0m \u001b[0msweetviz\u001b[0m \u001b[1;32mas\u001b[0m \u001b[0msw\u001b[0m\u001b[1;33m\u001b[0m\u001b[1;33m\u001b[0m\u001b[0m\n\u001b[0;32m      8\u001b[0m \u001b[1;32mimport\u001b[0m \u001b[0mRecommenders\u001b[0m \u001b[1;32mas\u001b[0m \u001b[0mRecommenders\u001b[0m\u001b[1;33m\u001b[0m\u001b[1;33m\u001b[0m\u001b[0m\n",
      "\u001b[1;31mModuleNotFoundError\u001b[0m: No module named 'pandas_profiling'"
     ]
    }
   ],
   "source": [
    "import pandas as pd\n",
    "from pandas.plotting import scatter_matrix\n",
    "import seaborn as sns\n",
    "import numpy as np\n",
    "import matplotlib.pyplot as plt\n",
    "from pandas_profiling import ProfileReport as PR\n",
    "import sweetviz as sw\n",
    "import Recommenders as Recommenders"
   ]
  },
  {
   "cell_type": "code",
   "execution_count": null,
   "id": "1353d464",
   "metadata": {
    "ExecuteTime": {
     "end_time": "2022-03-13T17:15:38.562425Z",
     "start_time": "2022-03-13T17:15:34.534Z"
    }
   },
   "outputs": [],
   "source": [
    "songs=pd.read_csv(\"C:/Users/Osama Khan/OneDrive/Documents/Data Science/DS Project/Music_Final_Data.csv\")\n",
    "songs.head()"
   ]
  },
  {
   "cell_type": "markdown",
   "id": "846ccb87",
   "metadata": {},
   "source": [
    "# EDA"
   ]
  },
  {
   "cell_type": "code",
   "execution_count": null,
   "id": "92a5304b",
   "metadata": {
    "ExecuteTime": {
     "end_time": "2022-03-13T17:15:38.563422Z",
     "start_time": "2022-03-13T17:15:34.540Z"
    }
   },
   "outputs": [],
   "source": [
    "# creating new feature combining Genere and Artist name\n",
    "songs['Songs']=songs['Genere'] + '-'+songs['Artist']\n",
    "songs.head()"
   ]
  },
  {
   "cell_type": "code",
   "execution_count": null,
   "id": "fde1485e",
   "metadata": {
    "ExecuteTime": {
     "end_time": "2022-03-13T17:15:38.564421Z",
     "start_time": "2022-03-13T17:15:34.544Z"
    }
   },
   "outputs": [],
   "source": [
    "songs1=songs.drop(['Genere','Artist','Name_URL'],axis=1)\n",
    "songs1"
   ]
  },
  {
   "cell_type": "code",
   "execution_count": null,
   "id": "e9a9fb5e",
   "metadata": {
    "ExecuteTime": {
     "end_time": "2022-03-13T17:15:38.565461Z",
     "start_time": "2022-03-13T17:15:34.549Z"
    }
   },
   "outputs": [],
   "source": [
    "songs1.info()"
   ]
  },
  {
   "cell_type": "code",
   "execution_count": null,
   "id": "16e9b9c9",
   "metadata": {
    "ExecuteTime": {
     "end_time": "2022-03-13T17:15:38.567538Z",
     "start_time": "2022-03-13T17:15:34.553Z"
    }
   },
   "outputs": [],
   "source": [
    "songs1.shape"
   ]
  },
  {
   "cell_type": "code",
   "execution_count": null,
   "id": "47e80837",
   "metadata": {
    "ExecuteTime": {
     "end_time": "2022-03-13T17:15:38.568535Z",
     "start_time": "2022-03-13T17:15:34.556Z"
    }
   },
   "outputs": [],
   "source": [
    "len(songs1.Songs.unique())"
   ]
  },
  {
   "cell_type": "code",
   "execution_count": null,
   "id": "bdd31d39",
   "metadata": {
    "ExecuteTime": {
     "end_time": "2022-03-13T17:15:38.569533Z",
     "start_time": "2022-03-13T17:15:34.559Z"
    }
   },
   "outputs": [],
   "source": [
    "len(songs1.user_id.unique())"
   ]
  },
  {
   "cell_type": "code",
   "execution_count": null,
   "id": "b7c5091c",
   "metadata": {
    "ExecuteTime": {
     "end_time": "2022-03-13T17:15:38.571528Z",
     "start_time": "2022-03-13T17:15:34.563Z"
    }
   },
   "outputs": [],
   "source": [
    "songs1.isna().sum()"
   ]
  },
  {
   "cell_type": "code",
   "execution_count": null,
   "id": "0049dece",
   "metadata": {
    "ExecuteTime": {
     "end_time": "2022-03-13T17:15:38.572524Z",
     "start_time": "2022-03-13T17:15:34.566Z"
    }
   },
   "outputs": [],
   "source": [
    "sns.heatmap(songs1.isna(),yticklabels=False,cbar=False,cmap='viridis')"
   ]
  },
  {
   "cell_type": "code",
   "execution_count": null,
   "id": "801d657c",
   "metadata": {
    "ExecuteTime": {
     "end_time": "2022-03-13T17:15:38.573540Z",
     "start_time": "2022-03-13T17:15:34.570Z"
    }
   },
   "outputs": [],
   "source": [
    "songs1.describe()"
   ]
  },
  {
   "cell_type": "code",
   "execution_count": null,
   "id": "2116b20c",
   "metadata": {
    "ExecuteTime": {
     "end_time": "2022-03-13T17:15:38.574537Z",
     "start_time": "2022-03-13T17:15:34.573Z"
    }
   },
   "outputs": [],
   "source": [
    "sns.barplot(x=\"Songs\",y=\"listen_count\",data=songs1)\n",
    "plt.show()"
   ]
  },
  {
   "cell_type": "code",
   "execution_count": null,
   "id": "b59793fc",
   "metadata": {
    "ExecuteTime": {
     "end_time": "2022-03-13T17:15:38.575536Z",
     "start_time": "2022-03-13T17:15:34.577Z"
    }
   },
   "outputs": [],
   "source": [
    "songs1.plot(kind='density', subplots=True, layout=(2,1), sharex=False)\n",
    "plt.show()"
   ]
  },
  {
   "cell_type": "code",
   "execution_count": null,
   "id": "ab93c3a2",
   "metadata": {
    "ExecuteTime": {
     "end_time": "2022-03-13T17:15:38.576534Z",
     "start_time": "2022-03-13T17:15:34.579Z"
    }
   },
   "outputs": [],
   "source": [
    "# To create simple Report quickly\n",
    "Music_profile=PR(songs1,title='Pandas Profiling Report',explorative=True)"
   ]
  },
  {
   "cell_type": "code",
   "execution_count": null,
   "id": "6d6b12a8",
   "metadata": {
    "ExecuteTime": {
     "end_time": "2022-03-13T17:15:38.577530Z",
     "start_time": "2022-03-13T17:15:34.584Z"
    }
   },
   "outputs": [],
   "source": [
    "Music_profile.to_file('Output1.html')"
   ]
  },
  {
   "cell_type": "code",
   "execution_count": null,
   "id": "35fbb214",
   "metadata": {
    "ExecuteTime": {
     "end_time": "2022-03-13T17:15:38.579526Z",
     "start_time": "2022-03-13T17:15:34.585Z"
    }
   },
   "outputs": [],
   "source": [
    "Music_profile1=sw.analyze(songs) # Using sweetviz\n",
    "Music_profile1.show_html('analyze1.html',open_browser=False)"
   ]
  },
  {
   "cell_type": "code",
   "execution_count": null,
   "id": "3fa51731",
   "metadata": {
    "ExecuteTime": {
     "end_time": "2022-03-13T17:15:38.580521Z",
     "start_time": "2022-03-13T17:15:34.589Z"
    }
   },
   "outputs": [],
   "source": [
    "# cummulative sum of listen count of the songs\n",
    "songs_grouped=songs.groupby(['Songs']).agg({'listen_count':'count'}).reset_index()\n",
    "songs_grouped.head(20)"
   ]
  },
  {
   "cell_type": "code",
   "execution_count": null,
   "id": "c0827f4b",
   "metadata": {
    "ExecuteTime": {
     "end_time": "2022-03-13T17:15:38.581518Z",
     "start_time": "2022-03-13T17:15:34.592Z"
    }
   },
   "outputs": [],
   "source": [
    "grouped_sum=songs_grouped['listen_count'].sum()\n",
    "songs_grouped['Percentage']=(songs_grouped['listen_count']/grouped_sum) * 100\n",
    "songs_grouped.sort_values(['listen_count','Songs'],ascending=[0,1])"
   ]
  },
  {
   "cell_type": "markdown",
   "id": "0dd14e54",
   "metadata": {},
   "source": [
    "## poupularity recommendation engine"
   ]
  },
  {
   "cell_type": "code",
   "execution_count": null,
   "id": "c42fc5e0",
   "metadata": {
    "ExecuteTime": {
     "end_time": "2022-03-13T17:15:38.582515Z",
     "start_time": "2022-03-13T17:15:34.596Z"
    }
   },
   "outputs": [],
   "source": [
    "pr=Recommenders.popularity_recommender_py()"
   ]
  },
  {
   "cell_type": "code",
   "execution_count": null,
   "id": "7e02b2e2",
   "metadata": {
    "ExecuteTime": {
     "end_time": "2022-03-13T17:15:38.583514Z",
     "start_time": "2022-03-13T17:15:34.601Z"
    }
   },
   "outputs": [],
   "source": [
    "pr.create(songs1,'user_id','Songs')"
   ]
  },
  {
   "cell_type": "code",
   "execution_count": null,
   "id": "fc1f9667",
   "metadata": {
    "ExecuteTime": {
     "end_time": "2022-03-13T17:15:38.586779Z",
     "start_time": "2022-03-13T17:15:34.603Z"
    }
   },
   "outputs": [],
   "source": [
    "# it showing the same data bcz this are the popular songs listen by user \n",
    "pr.recommend(songs1['user_id'][1])"
   ]
  },
  {
   "cell_type": "code",
   "execution_count": null,
   "id": "4c77e24a",
   "metadata": {
    "ExecuteTime": {
     "end_time": "2022-03-13T17:15:38.586963Z",
     "start_time": "2022-03-13T17:15:34.606Z"
    }
   },
   "outputs": [],
   "source": [
    "pr.recommend(songs1['user_id'][5])"
   ]
  },
  {
   "cell_type": "markdown",
   "id": "231e4366",
   "metadata": {},
   "source": [
    "# Item similarity recommendation"
   ]
  },
  {
   "cell_type": "code",
   "execution_count": null,
   "id": "5d54a42f",
   "metadata": {
    "ExecuteTime": {
     "end_time": "2022-03-13T17:15:38.588959Z",
     "start_time": "2022-03-13T17:15:34.608Z"
    }
   },
   "outputs": [],
   "source": [
    "ir=Recommenders.item_similarity_recommender_py()"
   ]
  },
  {
   "cell_type": "code",
   "execution_count": null,
   "id": "ad330c6a",
   "metadata": {
    "ExecuteTime": {
     "end_time": "2022-03-13T17:15:38.589956Z",
     "start_time": "2022-03-13T17:15:34.611Z"
    }
   },
   "outputs": [],
   "source": [
    "ir.create(songs1,'user_id','Songs')"
   ]
  },
  {
   "cell_type": "code",
   "execution_count": null,
   "id": "cf2a41a5",
   "metadata": {
    "ExecuteTime": {
     "end_time": "2022-03-13T17:15:38.591951Z",
     "start_time": "2022-03-13T17:15:34.613Z"
    }
   },
   "outputs": [],
   "source": [
    "user_items=ir.get_user_items(songs1['user_id'][1])"
   ]
  },
  {
   "cell_type": "code",
   "execution_count": null,
   "id": "23248f70",
   "metadata": {
    "ExecuteTime": {
     "end_time": "2022-03-13T17:15:38.593957Z",
     "start_time": "2022-03-13T17:15:34.615Z"
    }
   },
   "outputs": [],
   "source": [
    "# This are the songs listen by user_id => 1\n",
    "# Display user songs history\n",
    "for user_item in user_items:\n",
    "    print(user_item)"
   ]
  },
  {
   "cell_type": "code",
   "execution_count": null,
   "id": "e9792d4c",
   "metadata": {
    "ExecuteTime": {
     "end_time": "2022-03-13T17:15:38.594954Z",
     "start_time": "2022-03-13T17:15:34.617Z"
    }
   },
   "outputs": [],
   "source": [
    "# Give songs recommendation for that user\n",
    "ir.recommend(songs1['user_id'][1])"
   ]
  },
  {
   "cell_type": "code",
   "execution_count": null,
   "id": "8ec20369",
   "metadata": {
    "ExecuteTime": {
     "end_time": "2022-03-13T17:15:38.595953Z",
     "start_time": "2022-03-13T17:15:34.620Z"
    }
   },
   "outputs": [],
   "source": [
    "# Give songs recommendation for that user\n",
    "ir.recommend(songs1['user_id'][150])"
   ]
  },
  {
   "cell_type": "code",
   "execution_count": null,
   "id": "841e1f49",
   "metadata": {
    "ExecuteTime": {
     "end_time": "2022-03-13T17:15:38.596949Z",
     "start_time": "2022-03-13T17:15:34.623Z"
    }
   },
   "outputs": [],
   "source": [
    "# Give related songs based on words\n",
    "ir.get_similar_items(['Relaxing Ambient Meditation-mindful_sound'])"
   ]
  },
  {
   "cell_type": "markdown",
   "id": "aae53ec5",
   "metadata": {},
   "source": [
    "## Content based recommendation engine"
   ]
  },
  {
   "cell_type": "code",
   "execution_count": null,
   "id": "30b4d558",
   "metadata": {
    "ExecuteTime": {
     "end_time": "2022-03-13T17:15:38.597946Z",
     "start_time": "2022-03-13T17:15:34.625Z"
    }
   },
   "outputs": [],
   "source": [
    "from sklearn.feature_extraction.text import TfidfVectorizer"
   ]
  },
  {
   "cell_type": "code",
   "execution_count": null,
   "id": "0f94319e",
   "metadata": {
    "ExecuteTime": {
     "end_time": "2022-03-13T17:15:38.599942Z",
     "start_time": "2022-03-13T17:15:34.626Z"
    }
   },
   "outputs": [],
   "source": [
    "tfidf=TfidfVectorizer(min_df=3,max_features=None,strip_accents='unicode',\n",
    "                     analyzer='word',token_pattern=r'\\w{1,}',ngram_range=(1,3),stop_words='english')"
   ]
  },
  {
   "cell_type": "code",
   "execution_count": null,
   "id": "0dae774d",
   "metadata": {
    "ExecuteTime": {
     "end_time": "2022-03-13T17:15:38.600940Z",
     "start_time": "2022-03-13T17:15:34.628Z"
    }
   },
   "outputs": [],
   "source": [
    "import pickle\n",
    "pickle_out=open(\"songs1.pkl\",\"wb\")\n",
    "pickle.dump(songs1,pickle_out)\n",
    "pickle_out.close()"
   ]
  },
  {
   "cell_type": "code",
   "execution_count": null,
   "id": "f991295f",
   "metadata": {
    "ExecuteTime": {
     "end_time": "2022-03-13T17:15:38.602934Z",
     "start_time": "2022-03-13T17:15:34.630Z"
    }
   },
   "outputs": [],
   "source": [
    "pickle.dump(songs1.to_dict(),open('songs_dict.pkl','wb')) # converting into dict for trying purpose only"
   ]
  },
  {
   "cell_type": "code",
   "execution_count": null,
   "id": "68763df7",
   "metadata": {
    "ExecuteTime": {
     "end_time": "2022-03-13T17:15:38.603930Z",
     "start_time": "2022-03-13T17:15:34.632Z"
    },
    "scrolled": true
   },
   "outputs": [],
   "source": [
    "pickle.dump(similarity,open('similarity.pkl','wb'))"
   ]
  }
 ],
 "metadata": {
  "kernelspec": {
   "display_name": "Python 3",
   "language": "python",
   "name": "python3"
  },
  "language_info": {
   "codemirror_mode": {
    "name": "ipython",
    "version": 3
   },
   "file_extension": ".py",
   "mimetype": "text/x-python",
   "name": "python",
   "nbconvert_exporter": "python",
   "pygments_lexer": "ipython3",
   "version": "3.8.8"
  },
  "toc": {
   "base_numbering": 1,
   "nav_menu": {},
   "number_sections": true,
   "sideBar": true,
   "skip_h1_title": false,
   "title_cell": "Table of Contents",
   "title_sidebar": "Contents",
   "toc_cell": false,
   "toc_position": {},
   "toc_section_display": true,
   "toc_window_display": false
  }
 },
 "nbformat": 4,
 "nbformat_minor": 5
}
