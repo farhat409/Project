{
 "cells": [
  {
   "cell_type": "code",
   "execution_count": 60,
   "id": "1f6f848c",
   "metadata": {
    "ExecuteTime": {
     "end_time": "2022-03-13T16:08:12.726913Z",
     "start_time": "2022-03-13T16:08:12.709406Z"
    }
   },
   "outputs": [],
   "source": [
    "import pandas as pd\n",
    "import numpy as np\n",
    "import matplotlib.pyplot as plt\n",
    "import seaborn as sns\n",
    "%matplotlib inline"
   ]
  },
  {
   "cell_type": "code",
   "execution_count": 61,
   "id": "c9f2646e",
   "metadata": {
    "ExecuteTime": {
     "end_time": "2022-03-13T16:08:12.758303Z",
     "start_time": "2022-03-13T16:08:12.728908Z"
    }
   },
   "outputs": [
    {
     "data": {
      "text/html": [
       "<div>\n",
       "<style scoped>\n",
       "    .dataframe tbody tr th:only-of-type {\n",
       "        vertical-align: middle;\n",
       "    }\n",
       "\n",
       "    .dataframe tbody tr th {\n",
       "        vertical-align: top;\n",
       "    }\n",
       "\n",
       "    .dataframe thead th {\n",
       "        text-align: right;\n",
       "    }\n",
       "</style>\n",
       "<table border=\"1\" class=\"dataframe\">\n",
       "  <thead>\n",
       "    <tr style=\"text-align: right;\">\n",
       "      <th></th>\n",
       "      <th>user_id</th>\n",
       "      <th>song_id</th>\n",
       "      <th>Genere</th>\n",
       "      <th>Artist</th>\n",
       "      <th>listen_count</th>\n",
       "      <th>Name_URL</th>\n",
       "      <th>year</th>\n",
       "      <th>Audio_Length</th>\n",
       "    </tr>\n",
       "  </thead>\n",
       "  <tbody>\n",
       "    <tr>\n",
       "      <th>0</th>\n",
       "      <td>b80344d063b5ccb3212f76538f3d9e43d87dca9e</td>\n",
       "      <td>SOQMMHC12AB0180CB8</td>\n",
       "      <td>Relaxing Synth</td>\n",
       "      <td>AlexBoshMusic</td>\n",
       "      <td>1</td>\n",
       "      <td>https://audiojungle.net/item/relaxing-synth/35...</td>\n",
       "      <td>2011</td>\n",
       "      <td>02:06</td>\n",
       "    </tr>\n",
       "    <tr>\n",
       "      <th>1</th>\n",
       "      <td>b80344d063b5ccb3212f76538f3d9e43d87dca9e</td>\n",
       "      <td>SOVFVAK12A8C1350D9</td>\n",
       "      <td>Relax</td>\n",
       "      <td>TomyJiz</td>\n",
       "      <td>2</td>\n",
       "      <td>https://audiojungle.net/item/relax/31913389</td>\n",
       "      <td>2010</td>\n",
       "      <td>02:49</td>\n",
       "    </tr>\n",
       "    <tr>\n",
       "      <th>2</th>\n",
       "      <td>b80344d063b5ccb3212f76538f3d9e43d87dca9e</td>\n",
       "      <td>SOGTUKN12AB017F4F1</td>\n",
       "      <td>Relaxed</td>\n",
       "      <td>TomyJiz</td>\n",
       "      <td>1</td>\n",
       "      <td>https://audiojungle.net/item/relaxed/33455746</td>\n",
       "      <td>2010</td>\n",
       "      <td>03:32</td>\n",
       "    </tr>\n",
       "    <tr>\n",
       "      <th>3</th>\n",
       "      <td>b80344d063b5ccb3212f76538f3d9e43d87dca9e</td>\n",
       "      <td>SOBNYVR12A8C13558C</td>\n",
       "      <td>Soft Relaxing Music</td>\n",
       "      <td>5VNDY</td>\n",
       "      <td>1</td>\n",
       "      <td>https://audiojungle.net/item/soft-relaxing-mus...</td>\n",
       "      <td>2010</td>\n",
       "      <td>02:45</td>\n",
       "    </tr>\n",
       "    <tr>\n",
       "      <th>4</th>\n",
       "      <td>b80344d063b5ccb3212f76538f3d9e43d87dca9e</td>\n",
       "      <td>SOHSBXH12A8C13B0DF</td>\n",
       "      <td>Peaceful Relaxing Ambient Corporate</td>\n",
       "      <td>5VNDY</td>\n",
       "      <td>1</td>\n",
       "      <td>https://audiojungle.net/item/peaceful-relaxing...</td>\n",
       "      <td>2010</td>\n",
       "      <td>02:28</td>\n",
       "    </tr>\n",
       "  </tbody>\n",
       "</table>\n",
       "</div>"
      ],
      "text/plain": [
       "                                    user_id             song_id  \\\n",
       "0  b80344d063b5ccb3212f76538f3d9e43d87dca9e  SOQMMHC12AB0180CB8   \n",
       "1  b80344d063b5ccb3212f76538f3d9e43d87dca9e  SOVFVAK12A8C1350D9   \n",
       "2  b80344d063b5ccb3212f76538f3d9e43d87dca9e  SOGTUKN12AB017F4F1   \n",
       "3  b80344d063b5ccb3212f76538f3d9e43d87dca9e  SOBNYVR12A8C13558C   \n",
       "4  b80344d063b5ccb3212f76538f3d9e43d87dca9e  SOHSBXH12A8C13B0DF   \n",
       "\n",
       "                                Genere         Artist  listen_count  \\\n",
       "0                       Relaxing Synth  AlexBoshMusic             1   \n",
       "1                                Relax        TomyJiz             2   \n",
       "2                              Relaxed        TomyJiz             1   \n",
       "3                  Soft Relaxing Music          5VNDY             1   \n",
       "4  Peaceful Relaxing Ambient Corporate          5VNDY             1   \n",
       "\n",
       "                                            Name_URL  year Audio_Length  \n",
       "0  https://audiojungle.net/item/relaxing-synth/35...  2011        02:06  \n",
       "1        https://audiojungle.net/item/relax/31913389  2010        02:49  \n",
       "2      https://audiojungle.net/item/relaxed/33455746  2010        03:32  \n",
       "3  https://audiojungle.net/item/soft-relaxing-mus...  2010        02:45  \n",
       "4  https://audiojungle.net/item/peaceful-relaxing...  2010        02:28  "
      ]
     },
     "execution_count": 61,
     "metadata": {},
     "output_type": "execute_result"
    }
   ],
   "source": [
    "df=pd.read_csv('Music_Final_Data.csv')\n",
    "df.head()"
   ]
  },
  {
   "cell_type": "code",
   "execution_count": 62,
   "id": "e3244f3e",
   "metadata": {
    "ExecuteTime": {
     "end_time": "2022-03-13T16:08:12.790182Z",
     "start_time": "2022-03-13T16:08:12.759587Z"
    }
   },
   "outputs": [
    {
     "data": {
      "text/html": [
       "<div>\n",
       "<style scoped>\n",
       "    .dataframe tbody tr th:only-of-type {\n",
       "        vertical-align: middle;\n",
       "    }\n",
       "\n",
       "    .dataframe tbody tr th {\n",
       "        vertical-align: top;\n",
       "    }\n",
       "\n",
       "    .dataframe thead th {\n",
       "        text-align: right;\n",
       "    }\n",
       "</style>\n",
       "<table border=\"1\" class=\"dataframe\">\n",
       "  <thead>\n",
       "    <tr style=\"text-align: right;\">\n",
       "      <th></th>\n",
       "      <th>Genere</th>\n",
       "      <th>Artist</th>\n",
       "      <th>listen_count</th>\n",
       "      <th>Name_URL</th>\n",
       "      <th>year</th>\n",
       "      <th>Audio_Length</th>\n",
       "    </tr>\n",
       "  </thead>\n",
       "  <tbody>\n",
       "    <tr>\n",
       "      <th>0</th>\n",
       "      <td>Relaxing Synth</td>\n",
       "      <td>AlexBoshMusic</td>\n",
       "      <td>1</td>\n",
       "      <td>https://audiojungle.net/item/relaxing-synth/35...</td>\n",
       "      <td>2011</td>\n",
       "      <td>02:06</td>\n",
       "    </tr>\n",
       "    <tr>\n",
       "      <th>1</th>\n",
       "      <td>Relax</td>\n",
       "      <td>TomyJiz</td>\n",
       "      <td>2</td>\n",
       "      <td>https://audiojungle.net/item/relax/31913389</td>\n",
       "      <td>2010</td>\n",
       "      <td>02:49</td>\n",
       "    </tr>\n",
       "    <tr>\n",
       "      <th>2</th>\n",
       "      <td>Relaxed</td>\n",
       "      <td>TomyJiz</td>\n",
       "      <td>1</td>\n",
       "      <td>https://audiojungle.net/item/relaxed/33455746</td>\n",
       "      <td>2010</td>\n",
       "      <td>03:32</td>\n",
       "    </tr>\n",
       "    <tr>\n",
       "      <th>3</th>\n",
       "      <td>Soft Relaxing Music</td>\n",
       "      <td>5VNDY</td>\n",
       "      <td>1</td>\n",
       "      <td>https://audiojungle.net/item/soft-relaxing-mus...</td>\n",
       "      <td>2010</td>\n",
       "      <td>02:45</td>\n",
       "    </tr>\n",
       "    <tr>\n",
       "      <th>4</th>\n",
       "      <td>Peaceful Relaxing Ambient Corporate</td>\n",
       "      <td>5VNDY</td>\n",
       "      <td>1</td>\n",
       "      <td>https://audiojungle.net/item/peaceful-relaxing...</td>\n",
       "      <td>2010</td>\n",
       "      <td>02:28</td>\n",
       "    </tr>\n",
       "    <tr>\n",
       "      <th>...</th>\n",
       "      <td>...</td>\n",
       "      <td>...</td>\n",
       "      <td>...</td>\n",
       "      <td>...</td>\n",
       "      <td>...</td>\n",
       "      <td>...</td>\n",
       "    </tr>\n",
       "    <tr>\n",
       "      <th>1788</th>\n",
       "      <td>Tropical Beach Relax</td>\n",
       "      <td>GoldenSpiralMusic</td>\n",
       "      <td>1</td>\n",
       "      <td>https://audiojungle.net/item/tropical-beach-re...</td>\n",
       "      <td>2010</td>\n",
       "      <td>03:31</td>\n",
       "    </tr>\n",
       "    <tr>\n",
       "      <th>1789</th>\n",
       "      <td>Mexican Relax</td>\n",
       "      <td>JK_Production007</td>\n",
       "      <td>1</td>\n",
       "      <td>https://audiojungle.net/item/mexican-relax/244...</td>\n",
       "      <td>2010</td>\n",
       "      <td>07:49</td>\n",
       "    </tr>\n",
       "    <tr>\n",
       "      <th>1790</th>\n",
       "      <td>Relax Latin Guitar</td>\n",
       "      <td>Dredstudio</td>\n",
       "      <td>1</td>\n",
       "      <td>https://audiojungle.net/item/relax-latin-guita...</td>\n",
       "      <td>2010</td>\n",
       "      <td>06:20</td>\n",
       "    </tr>\n",
       "    <tr>\n",
       "      <th>1791</th>\n",
       "      <td>Relaxing Bossa</td>\n",
       "      <td>PublicityMaster</td>\n",
       "      <td>1</td>\n",
       "      <td>https://audiojungle.net/item/relaxing-bossa/33...</td>\n",
       "      <td>2010</td>\n",
       "      <td>00:57</td>\n",
       "    </tr>\n",
       "    <tr>\n",
       "      <th>1792</th>\n",
       "      <td>Relaxing In The Hammock</td>\n",
       "      <td>BenHaberAudio</td>\n",
       "      <td>1</td>\n",
       "      <td>https://audiojungle.net/item/relaxing-in-the-h...</td>\n",
       "      <td>2012</td>\n",
       "      <td>07:12</td>\n",
       "    </tr>\n",
       "  </tbody>\n",
       "</table>\n",
       "<p>1793 rows × 6 columns</p>\n",
       "</div>"
      ],
      "text/plain": [
       "                                   Genere             Artist  listen_count  \\\n",
       "0                          Relaxing Synth      AlexBoshMusic             1   \n",
       "1                                   Relax            TomyJiz             2   \n",
       "2                                 Relaxed            TomyJiz             1   \n",
       "3                     Soft Relaxing Music              5VNDY             1   \n",
       "4     Peaceful Relaxing Ambient Corporate              5VNDY             1   \n",
       "...                                   ...                ...           ...   \n",
       "1788                 Tropical Beach Relax  GoldenSpiralMusic             1   \n",
       "1789                        Mexican Relax   JK_Production007             1   \n",
       "1790                   Relax Latin Guitar         Dredstudio             1   \n",
       "1791                       Relaxing Bossa    PublicityMaster             1   \n",
       "1792              Relaxing In The Hammock      BenHaberAudio             1   \n",
       "\n",
       "                                               Name_URL  year Audio_Length  \n",
       "0     https://audiojungle.net/item/relaxing-synth/35...  2011        02:06  \n",
       "1           https://audiojungle.net/item/relax/31913389  2010        02:49  \n",
       "2         https://audiojungle.net/item/relaxed/33455746  2010        03:32  \n",
       "3     https://audiojungle.net/item/soft-relaxing-mus...  2010        02:45  \n",
       "4     https://audiojungle.net/item/peaceful-relaxing...  2010        02:28  \n",
       "...                                                 ...   ...          ...  \n",
       "1788  https://audiojungle.net/item/tropical-beach-re...  2010        03:31  \n",
       "1789  https://audiojungle.net/item/mexican-relax/244...  2010        07:49  \n",
       "1790  https://audiojungle.net/item/relax-latin-guita...  2010        06:20  \n",
       "1791  https://audiojungle.net/item/relaxing-bossa/33...  2010        00:57  \n",
       "1792  https://audiojungle.net/item/relaxing-in-the-h...  2012        07:12  \n",
       "\n",
       "[1793 rows x 6 columns]"
      ]
     },
     "execution_count": 62,
     "metadata": {},
     "output_type": "execute_result"
    }
   ],
   "source": [
    "df_music=df.drop(['user_id','song_id'],axis=1)\n",
    "df_music"
   ]
  },
  {
   "cell_type": "code",
   "execution_count": 63,
   "id": "dc5aeb19",
   "metadata": {
    "ExecuteTime": {
     "end_time": "2022-03-13T16:08:12.805920Z",
     "start_time": "2022-03-13T16:08:12.791191Z"
    }
   },
   "outputs": [
    {
     "data": {
      "text/plain": [
       "(1793, 6)"
      ]
     },
     "execution_count": 63,
     "metadata": {},
     "output_type": "execute_result"
    }
   ],
   "source": [
    "df_music.shape"
   ]
  },
  {
   "cell_type": "code",
   "execution_count": 64,
   "id": "d55af98c",
   "metadata": {
    "ExecuteTime": {
     "end_time": "2022-03-13T16:08:12.819630Z",
     "start_time": "2022-03-13T16:08:12.807079Z"
    }
   },
   "outputs": [
    {
     "data": {
      "text/plain": [
       "Index(['Genere', 'Artist', 'listen_count', 'Name_URL', 'year', 'Audio_Length'], dtype='object')"
      ]
     },
     "execution_count": 64,
     "metadata": {},
     "output_type": "execute_result"
    }
   ],
   "source": [
    "df_music.columns"
   ]
  },
  {
   "cell_type": "code",
   "execution_count": 65,
   "id": "70dd1b10",
   "metadata": {
    "ExecuteTime": {
     "end_time": "2022-03-13T16:08:12.848028Z",
     "start_time": "2022-03-13T16:08:12.820628Z"
    }
   },
   "outputs": [
    {
     "name": "stdout",
     "output_type": "stream",
     "text": [
      "<class 'pandas.core.frame.DataFrame'>\n",
      "RangeIndex: 1793 entries, 0 to 1792\n",
      "Data columns (total 6 columns):\n",
      " #   Column        Non-Null Count  Dtype \n",
      "---  ------        --------------  ----- \n",
      " 0   Genere        1793 non-null   object\n",
      " 1   Artist        1793 non-null   object\n",
      " 2   listen_count  1793 non-null   int64 \n",
      " 3   Name_URL      1793 non-null   object\n",
      " 4   year          1793 non-null   int64 \n",
      " 5   Audio_Length  1793 non-null   object\n",
      "dtypes: int64(2), object(4)\n",
      "memory usage: 84.2+ KB\n"
     ]
    }
   ],
   "source": [
    "df_music.info()"
   ]
  },
  {
   "cell_type": "code",
   "execution_count": 66,
   "id": "11ee9d47",
   "metadata": {
    "ExecuteTime": {
     "end_time": "2022-03-13T16:08:12.877065Z",
     "start_time": "2022-03-13T16:08:12.852928Z"
    }
   },
   "outputs": [
    {
     "data": {
      "text/html": [
       "<div>\n",
       "<style scoped>\n",
       "    .dataframe tbody tr th:only-of-type {\n",
       "        vertical-align: middle;\n",
       "    }\n",
       "\n",
       "    .dataframe tbody tr th {\n",
       "        vertical-align: top;\n",
       "    }\n",
       "\n",
       "    .dataframe thead th {\n",
       "        text-align: right;\n",
       "    }\n",
       "</style>\n",
       "<table border=\"1\" class=\"dataframe\">\n",
       "  <thead>\n",
       "    <tr style=\"text-align: right;\">\n",
       "      <th></th>\n",
       "      <th>listen_count</th>\n",
       "      <th>year</th>\n",
       "    </tr>\n",
       "  </thead>\n",
       "  <tbody>\n",
       "    <tr>\n",
       "      <th>count</th>\n",
       "      <td>1793.000000</td>\n",
       "      <td>1793.000000</td>\n",
       "    </tr>\n",
       "    <tr>\n",
       "      <th>mean</th>\n",
       "      <td>2.738427</td>\n",
       "      <td>2010.001673</td>\n",
       "    </tr>\n",
       "    <tr>\n",
       "      <th>std</th>\n",
       "      <td>4.538299</td>\n",
       "      <td>0.052796</td>\n",
       "    </tr>\n",
       "    <tr>\n",
       "      <th>min</th>\n",
       "      <td>1.000000</td>\n",
       "      <td>2010.000000</td>\n",
       "    </tr>\n",
       "    <tr>\n",
       "      <th>25%</th>\n",
       "      <td>1.000000</td>\n",
       "      <td>2010.000000</td>\n",
       "    </tr>\n",
       "    <tr>\n",
       "      <th>50%</th>\n",
       "      <td>1.000000</td>\n",
       "      <td>2010.000000</td>\n",
       "    </tr>\n",
       "    <tr>\n",
       "      <th>75%</th>\n",
       "      <td>3.000000</td>\n",
       "      <td>2010.000000</td>\n",
       "    </tr>\n",
       "    <tr>\n",
       "      <th>max</th>\n",
       "      <td>126.000000</td>\n",
       "      <td>2012.000000</td>\n",
       "    </tr>\n",
       "  </tbody>\n",
       "</table>\n",
       "</div>"
      ],
      "text/plain": [
       "       listen_count         year\n",
       "count   1793.000000  1793.000000\n",
       "mean       2.738427  2010.001673\n",
       "std        4.538299     0.052796\n",
       "min        1.000000  2010.000000\n",
       "25%        1.000000  2010.000000\n",
       "50%        1.000000  2010.000000\n",
       "75%        3.000000  2010.000000\n",
       "max      126.000000  2012.000000"
      ]
     },
     "execution_count": 66,
     "metadata": {},
     "output_type": "execute_result"
    }
   ],
   "source": [
    "df_music.describe()# describe help us providing only on int dtype and not on text based dtype"
   ]
  },
  {
   "cell_type": "markdown",
   "id": "0b595548",
   "metadata": {},
   "source": [
    "# In Data Analysis What All Things We Do\n",
    "1.Missing Values\n",
    "2.Explore About the Numerical Variables\n",
    "3.Explore About categorical Variables\n",
    "4.Finding Relationship between features"
   ]
  },
  {
   "cell_type": "code",
   "execution_count": 67,
   "id": "d641ac8b",
   "metadata": {
    "ExecuteTime": {
     "end_time": "2022-03-13T16:08:12.892835Z",
     "start_time": "2022-03-13T16:08:12.879720Z"
    }
   },
   "outputs": [
    {
     "data": {
      "text/plain": [
       "Genere          0\n",
       "Artist          0\n",
       "listen_count    0\n",
       "Name_URL        0\n",
       "year            0\n",
       "Audio_Length    0\n",
       "dtype: int64"
      ]
     },
     "execution_count": 67,
     "metadata": {},
     "output_type": "execute_result"
    }
   ],
   "source": [
    "df_music.isna().sum()"
   ]
  },
  {
   "cell_type": "code",
   "execution_count": 68,
   "id": "b80b00aa",
   "metadata": {
    "ExecuteTime": {
     "end_time": "2022-03-13T16:08:13.042624Z",
     "start_time": "2022-03-13T16:08:12.895826Z"
    }
   },
   "outputs": [
    {
     "data": {
      "text/plain": [
       "<AxesSubplot:>"
      ]
     },
     "execution_count": 68,
     "metadata": {},
     "output_type": "execute_result"
    },
    {
     "data": {
      "image/png": "[encoded data removed]",
      "text/plain": [
       "<Figure size 432x288 with 1 Axes>"
      ]
     },
     "metadata": {
      "needs_background": "light"
     },
     "output_type": "display_data"
    }
   ],
   "source": [
    "#representing missing values with heatmap\n",
    "sns.heatmap(df_music.isna(),yticklabels=False,cbar=False,cmap='viridis')"
   ]
  },
  {
   "cell_type": "code",
   "execution_count": 69,
   "id": "5b3bb202",
   "metadata": {
    "ExecuteTime": {
     "end_time": "2022-03-13T16:08:13.057149Z",
     "start_time": "2022-03-13T16:08:13.043622Z"
    }
   },
   "outputs": [
    {
     "data": {
      "text/plain": [
       "Index(['https://audiojungle.net/item/relax-background/35927677',\n",
       "       'https://audiojungle.net/item/relaxing-space/33523096',\n",
       "       'https://audiojungle.net/item/calm-and-relaxation/32232923',\n",
       "       'https://audiojungle.net/item/relax-business/28452147',\n",
       "       'https://audiojungle.net/item/relaxing-sleep/34370821',\n",
       "       'https://audiojungle.net/item/the-relaxing/35020843',\n",
       "       'https://audiojungle.net/item/in-your-relax/33814419',\n",
       "       'https://audiojungle.net/item/the-relax/21379491',\n",
       "       'https://audiojungle.net/item/ambient-relax-corporate/26356597',\n",
       "       'https://audiojungle.net/item/relaxing/27901304',\n",
       "       ...\n",
       "       'https://audiojungle.net/item/calming-and-relaxing-piano/34326096',\n",
       "       'https://audiojungle.net/item/relaxed/19242672',\n",
       "       'https://audiojungle.net/item/chillout/22301073',\n",
       "       'https://audiojungle.net/item/relax-ambient/28798127',\n",
       "       'https://audiojungle.net/item/relaxing-piano-ambient/28477126',\n",
       "       'https://audiojungle.net/item/it-meditation/29323938',\n",
       "       'https://audiojungle.net/item/relaxed-background/10652386',\n",
       "       'https://audiojungle.net/item/relaxing-lofi-beat/34507557',\n",
       "       'https://audiojungle.net/item/relax-romantic/34016689',\n",
       "       'https://audiojungle.net/item/relax/20334309'],\n",
       "      dtype='object', length=1793)"
      ]
     },
     "execution_count": 69,
     "metadata": {},
     "output_type": "execute_result"
    }
   ],
   "source": [
    "dfmusic_name=df_music.Name_URL.value_counts().index\n",
    "dfmusic_name"
   ]
  },
  {
   "cell_type": "code",
   "execution_count": 70,
   "id": "dfc3c6dc",
   "metadata": {
    "ExecuteTime": {
     "end_time": "2022-03-13T16:08:13.073572Z",
     "start_time": "2022-03-13T16:08:13.058147Z"
    }
   },
   "outputs": [
    {
     "data": {
      "text/plain": [
       "array([1, 1, 1, ..., 1, 1, 1], dtype=int64)"
      ]
     },
     "execution_count": 70,
     "metadata": {},
     "output_type": "execute_result"
    }
   ],
   "source": [
    "dfmusic_values=df_music.Name_URL.value_counts().values\n",
    "dfmusic_values"
   ]
  },
  {
   "cell_type": "code",
   "execution_count": 71,
   "id": "dd785cf9",
   "metadata": {
    "ExecuteTime": {
     "end_time": "2022-03-13T16:09:06.486627Z",
     "start_time": "2022-03-13T16:08:13.074568Z"
    },
    "scrolled": true
   },
   "outputs": [
    {
     "data": {
      "text/plain": [
       "<AxesSubplot:xlabel='Name_URL', ylabel='listen_count'>"
      ]
     },
     "execution_count": 71,
     "metadata": {},
     "output_type": "execute_result"
    },
    {
     "data": {
      "image/png": "[encoded data removed]",
      "text/plain": [
       "<Figure size 864x432 with 1 Axes>"
      ]
     },
     "metadata": {
      "needs_background": "light"
     },
     "output_type": "display_data"
    }
   ],
   "source": [
    "import matplotlib\n",
    "matplotlib.rcParams['figure.figsize'] = (12, 6)\n",
    "sns.barplot(x=\"Name_URL\",y=\"listen_count\",data=df_music)"
   ]
  },
  {
   "cell_type": "code",
   "execution_count": 72,
   "id": "f09457d0",
   "metadata": {
    "ExecuteTime": {
     "end_time": "2022-03-13T16:09:06.499309Z",
     "start_time": "2022-03-13T16:09:06.487624Z"
    }
   },
   "outputs": [],
   "source": [
    "#sns.barplot(x=\"Artist\",y=\"listen_count\",data=highest_count_artist)"
   ]
  },
  {
   "cell_type": "code",
   "execution_count": 73,
   "id": "62258459",
   "metadata": {
    "ExecuteTime": {
     "end_time": "2022-03-13T16:09:06.515007Z",
     "start_time": "2022-03-13T16:09:06.501589Z"
    }
   },
   "outputs": [
    {
     "data": {
      "text/html": [
       "<div>\n",
       "<style scoped>\n",
       "    .dataframe tbody tr th:only-of-type {\n",
       "        vertical-align: middle;\n",
       "    }\n",
       "\n",
       "    .dataframe tbody tr th {\n",
       "        vertical-align: top;\n",
       "    }\n",
       "\n",
       "    .dataframe thead th {\n",
       "        text-align: right;\n",
       "    }\n",
       "</style>\n",
       "<table border=\"1\" class=\"dataframe\">\n",
       "  <thead>\n",
       "    <tr style=\"text-align: right;\">\n",
       "      <th></th>\n",
       "      <th>listen_count</th>\n",
       "      <th>year</th>\n",
       "    </tr>\n",
       "    <tr>\n",
       "      <th>Artist</th>\n",
       "      <th></th>\n",
       "      <th></th>\n",
       "    </tr>\n",
       "  </thead>\n",
       "  <tbody>\n",
       "    <tr>\n",
       "      <th>-MARiAN-</th>\n",
       "      <td>2</td>\n",
       "      <td>2010</td>\n",
       "    </tr>\n",
       "    <tr>\n",
       "      <th>-juqboxmusic-</th>\n",
       "      <td>2</td>\n",
       "      <td>2010</td>\n",
       "    </tr>\n",
       "    <tr>\n",
       "      <th>0LUFS</th>\n",
       "      <td>6</td>\n",
       "      <td>2010</td>\n",
       "    </tr>\n",
       "    <tr>\n",
       "      <th>24music</th>\n",
       "      <td>1</td>\n",
       "      <td>2010</td>\n",
       "    </tr>\n",
       "    <tr>\n",
       "      <th>2K_Studio</th>\n",
       "      <td>18</td>\n",
       "      <td>4020</td>\n",
       "    </tr>\n",
       "  </tbody>\n",
       "</table>\n",
       "</div>"
      ],
      "text/plain": [
       "               listen_count  year\n",
       "Artist                           \n",
       "-MARiAN-                  2  2010\n",
       "-juqboxmusic-             2  2010\n",
       "0LUFS                     6  2010\n",
       "24music                   1  2010\n",
       "2K_Studio                18  4020"
      ]
     },
     "execution_count": 73,
     "metadata": {},
     "output_type": "execute_result"
    }
   ],
   "source": [
    "df_Artist=df_music.groupby(['Artist']).sum()\n",
    "df_Artist.head()"
   ]
  },
  {
   "cell_type": "code",
   "execution_count": 74,
   "id": "36ea8c7a",
   "metadata": {
    "ExecuteTime": {
     "end_time": "2022-03-13T16:09:06.530305Z",
     "start_time": "2022-03-13T16:09:06.518366Z"
    }
   },
   "outputs": [
    {
     "data": {
      "text/plain": [
       "<bound method DataFrame.nunique of                listen_count  year\n",
       "Artist                           \n",
       "-MARiAN-                  2  2010\n",
       "-juqboxmusic-             2  2010\n",
       "0LUFS                     6  2010\n",
       "24music                   1  2010\n",
       "2K_Studio                18  4020\n",
       "...                     ...   ...\n",
       "wademarshall              2  2010\n",
       "wawe-SS                   1  2010\n",
       "youpiwmeister             1  2010\n",
       "zamarecords               1  2010\n",
       "zigro                    16  6030\n",
       "\n",
       "[777 rows x 2 columns]>"
      ]
     },
     "execution_count": 74,
     "metadata": {},
     "output_type": "execute_result"
    }
   ],
   "source": [
    "df_Artist.nunique"
   ]
  },
  {
   "cell_type": "code",
   "execution_count": 75,
   "id": "509be82c",
   "metadata": {
    "ExecuteTime": {
     "end_time": "2022-03-13T16:09:06.835080Z",
     "start_time": "2022-03-13T16:09:06.532300Z"
    }
   },
   "outputs": [
    {
     "data": {
      "text/html": [
       "<div>\n",
       "<style scoped>\n",
       "    .dataframe tbody tr th:only-of-type {\n",
       "        vertical-align: middle;\n",
       "    }\n",
       "\n",
       "    .dataframe tbody tr th {\n",
       "        vertical-align: top;\n",
       "    }\n",
       "\n",
       "    .dataframe thead th {\n",
       "        text-align: right;\n",
       "    }\n",
       "</style>\n",
       "<table border=\"1\" class=\"dataframe\">\n",
       "  <thead>\n",
       "    <tr style=\"text-align: right;\">\n",
       "      <th></th>\n",
       "      <th></th>\n",
       "      <th></th>\n",
       "      <th>Genere</th>\n",
       "      <th>Name_URL</th>\n",
       "      <th>Audio_Length</th>\n",
       "    </tr>\n",
       "    <tr>\n",
       "      <th>Artist</th>\n",
       "      <th>listen_count</th>\n",
       "      <th>year</th>\n",
       "      <th></th>\n",
       "      <th></th>\n",
       "      <th></th>\n",
       "    </tr>\n",
       "  </thead>\n",
       "  <tbody>\n",
       "    <tr>\n",
       "      <th>-MARiAN-</th>\n",
       "      <th>2</th>\n",
       "      <th>2010</th>\n",
       "      <td>Relaxation Therapy</td>\n",
       "      <td>https://audiojungle.net/item/relaxation-therap...</td>\n",
       "      <td>02:48</td>\n",
       "    </tr>\n",
       "    <tr>\n",
       "      <th>-juqboxmusic-</th>\n",
       "      <th>2</th>\n",
       "      <th>2010</th>\n",
       "      <td>Relaxing Acoustic</td>\n",
       "      <td>https://audiojungle.net/item/be-happy/24267947</td>\n",
       "      <td>03:04</td>\n",
       "    </tr>\n",
       "    <tr>\n",
       "      <th>0LUFS</th>\n",
       "      <th>6</th>\n",
       "      <th>2010</th>\n",
       "      <td>Relax Piano</td>\n",
       "      <td>https://audiojungle.net/item/relax-piano/32336660</td>\n",
       "      <td>04:11</td>\n",
       "    </tr>\n",
       "    <tr>\n",
       "      <th>24music</th>\n",
       "      <th>1</th>\n",
       "      <th>2010</th>\n",
       "      <td>Relax Day</td>\n",
       "      <td>https://audiojungle.net/item/relax-day/36083211</td>\n",
       "      <td>05:21</td>\n",
       "    </tr>\n",
       "    <tr>\n",
       "      <th>2K_Studio</th>\n",
       "      <th>1</th>\n",
       "      <th>2010</th>\n",
       "      <td>Relaxing Background</td>\n",
       "      <td>https://audiojungle.net/item/relaxing-backgrou...</td>\n",
       "      <td>02:21</td>\n",
       "    </tr>\n",
       "    <tr>\n",
       "      <th>...</th>\n",
       "      <th>...</th>\n",
       "      <th>...</th>\n",
       "      <td>...</td>\n",
       "      <td>...</td>\n",
       "      <td>...</td>\n",
       "    </tr>\n",
       "    <tr>\n",
       "      <th>youpiwmeister</th>\n",
       "      <th>1</th>\n",
       "      <th>2010</th>\n",
       "      <td>Relax</td>\n",
       "      <td>https://audiojungle.net/item/relax/22986727</td>\n",
       "      <td>01:54</td>\n",
       "    </tr>\n",
       "    <tr>\n",
       "      <th>zamarecords</th>\n",
       "      <th>1</th>\n",
       "      <th>2010</th>\n",
       "      <td>Relaxing Dream</td>\n",
       "      <td>https://audiojungle.net/item/relaxing-dream/29...</td>\n",
       "      <td>03:26</td>\n",
       "    </tr>\n",
       "    <tr>\n",
       "      <th rowspan=\"3\" valign=\"top\">zigro</th>\n",
       "      <th>1</th>\n",
       "      <th>2010</th>\n",
       "      <td>Space Relaxation</td>\n",
       "      <td>https://audiojungle.net/item/space-relaxation/...</td>\n",
       "      <td>05:12</td>\n",
       "    </tr>\n",
       "    <tr>\n",
       "      <th>6</th>\n",
       "      <th>2010</th>\n",
       "      <td>Cinematic Relax</td>\n",
       "      <td>https://audiojungle.net/item/cinematic-relax/3...</td>\n",
       "      <td>08:18</td>\n",
       "    </tr>\n",
       "    <tr>\n",
       "      <th>9</th>\n",
       "      <th>2010</th>\n",
       "      <td>Heavenly Relaxation</td>\n",
       "      <td>https://audiojungle.net/item/heavenly-relaxati...</td>\n",
       "      <td>04:02</td>\n",
       "    </tr>\n",
       "  </tbody>\n",
       "</table>\n",
       "<p>1167 rows × 3 columns</p>\n",
       "</div>"
      ],
      "text/plain": [
       "                                              Genere  \\\n",
       "Artist        listen_count year                        \n",
       "-MARiAN-      2            2010   Relaxation Therapy   \n",
       "-juqboxmusic- 2            2010    Relaxing Acoustic   \n",
       "0LUFS         6            2010          Relax Piano   \n",
       "24music       1            2010            Relax Day   \n",
       "2K_Studio     1            2010  Relaxing Background   \n",
       "...                                              ...   \n",
       "youpiwmeister 1            2010                Relax   \n",
       "zamarecords   1            2010       Relaxing Dream   \n",
       "zigro         1            2010     Space Relaxation   \n",
       "              6            2010      Cinematic Relax   \n",
       "              9            2010  Heavenly Relaxation   \n",
       "\n",
       "                                                                          Name_URL  \\\n",
       "Artist        listen_count year                                                      \n",
       "-MARiAN-      2            2010  https://audiojungle.net/item/relaxation-therap...   \n",
       "-juqboxmusic- 2            2010     https://audiojungle.net/item/be-happy/24267947   \n",
       "0LUFS         6            2010  https://audiojungle.net/item/relax-piano/32336660   \n",
       "24music       1            2010    https://audiojungle.net/item/relax-day/36083211   \n",
       "2K_Studio     1            2010  https://audiojungle.net/item/relaxing-backgrou...   \n",
       "...                                                                            ...   \n",
       "youpiwmeister 1            2010        https://audiojungle.net/item/relax/22986727   \n",
       "zamarecords   1            2010  https://audiojungle.net/item/relaxing-dream/29...   \n",
       "zigro         1            2010  https://audiojungle.net/item/space-relaxation/...   \n",
       "              6            2010  https://audiojungle.net/item/cinematic-relax/3...   \n",
       "              9            2010  https://audiojungle.net/item/heavenly-relaxati...   \n",
       "\n",
       "                                Audio_Length  \n",
       "Artist        listen_count year               \n",
       "-MARiAN-      2            2010        02:48  \n",
       "-juqboxmusic- 2            2010        03:04  \n",
       "0LUFS         6            2010        04:11  \n",
       "24music       1            2010        05:21  \n",
       "2K_Studio     1            2010        02:21  \n",
       "...                                      ...  \n",
       "youpiwmeister 1            2010        01:54  \n",
       "zamarecords   1            2010        03:26  \n",
       "zigro         1            2010        05:12  \n",
       "              6            2010        08:18  \n",
       "              9            2010        04:02  \n",
       "\n",
       "[1167 rows x 3 columns]"
      ]
     },
     "execution_count": 75,
     "metadata": {},
     "output_type": "execute_result"
    }
   ],
   "source": [
    "df_max=df_music.groupby(['Artist','listen_count','year']).sum()\n",
    "df_max"
   ]
  },
  {
   "cell_type": "code",
   "execution_count": 76,
   "id": "f9c2c910",
   "metadata": {
    "ExecuteTime": {
     "end_time": "2022-03-13T16:09:06.863245Z",
     "start_time": "2022-03-13T16:09:06.836368Z"
    }
   },
   "outputs": [
    {
     "data": {
      "text/html": [
       "<div>\n",
       "<style scoped>\n",
       "    .dataframe tbody tr th:only-of-type {\n",
       "        vertical-align: middle;\n",
       "    }\n",
       "\n",
       "    .dataframe tbody tr th {\n",
       "        vertical-align: top;\n",
       "    }\n",
       "\n",
       "    .dataframe thead th {\n",
       "        text-align: right;\n",
       "    }\n",
       "</style>\n",
       "<table border=\"1\" class=\"dataframe\">\n",
       "  <thead>\n",
       "    <tr style=\"text-align: right;\">\n",
       "      <th></th>\n",
       "      <th>Artist</th>\n",
       "      <th>listen_count</th>\n",
       "      <th>year</th>\n",
       "      <th>Name_URL</th>\n",
       "      <th>Audio_Length</th>\n",
       "      <th>Genere</th>\n",
       "      <th>0</th>\n",
       "    </tr>\n",
       "  </thead>\n",
       "  <tbody>\n",
       "    <tr>\n",
       "      <th>882</th>\n",
       "      <td>Musicare</td>\n",
       "      <td>22</td>\n",
       "      <td>2010</td>\n",
       "      <td>https://audiojungle.net/item/relaxation/11386432</td>\n",
       "      <td>02:19</td>\n",
       "      <td>Relaxation</td>\n",
       "      <td>1</td>\n",
       "    </tr>\n",
       "    <tr>\n",
       "      <th>236</th>\n",
       "      <td>BlackLionProductions</td>\n",
       "      <td>23</td>\n",
       "      <td>2010</td>\n",
       "      <td>https://audiojungle.net/item/relaxing-atmosphe...</td>\n",
       "      <td>10:41</td>\n",
       "      <td>Relaxing Atmosphere</td>\n",
       "      <td>1</td>\n",
       "    </tr>\n",
       "    <tr>\n",
       "      <th>177</th>\n",
       "      <td>AuraStock</td>\n",
       "      <td>23</td>\n",
       "      <td>2010</td>\n",
       "      <td>https://audiojungle.net/item/ten-minutes-of-re...</td>\n",
       "      <td>10:00</td>\n",
       "      <td>Ten Minutes of Relaxing Meditation</td>\n",
       "      <td>1</td>\n",
       "    </tr>\n",
       "    <tr>\n",
       "      <th>562</th>\n",
       "      <td>JD-sound</td>\n",
       "      <td>25</td>\n",
       "      <td>2010</td>\n",
       "      <td>https://audiojungle.net/item/relax-corporate/1...</td>\n",
       "      <td>04:08</td>\n",
       "      <td>Relax Corporate</td>\n",
       "      <td>1</td>\n",
       "    </tr>\n",
       "    <tr>\n",
       "      <th>1185</th>\n",
       "      <td>SoundProject</td>\n",
       "      <td>26</td>\n",
       "      <td>2010</td>\n",
       "      <td>https://audiojungle.net/item/relax/21576416</td>\n",
       "      <td>02:22</td>\n",
       "      <td>Relax</td>\n",
       "      <td>1</td>\n",
       "    </tr>\n",
       "    <tr>\n",
       "      <th>38</th>\n",
       "      <td>AShamaluev</td>\n",
       "      <td>26</td>\n",
       "      <td>2010</td>\n",
       "      <td>https://audiojungle.net/item/relaxing-ambient/...</td>\n",
       "      <td>12:20</td>\n",
       "      <td>Relaxing Ambient</td>\n",
       "      <td>1</td>\n",
       "    </tr>\n",
       "    <tr>\n",
       "      <th>828</th>\n",
       "      <td>Mitrynium</td>\n",
       "      <td>28</td>\n",
       "      <td>2010</td>\n",
       "      <td>https://audiojungle.net/item/relax-piano/31848417</td>\n",
       "      <td>07:49</td>\n",
       "      <td>Relax Piano</td>\n",
       "      <td>1</td>\n",
       "    </tr>\n",
       "    <tr>\n",
       "      <th>433</th>\n",
       "      <td>EightBallAudio</td>\n",
       "      <td>52</td>\n",
       "      <td>2010</td>\n",
       "      <td>https://audiojungle.net/item/corporate-eleganc...</td>\n",
       "      <td>02:15</td>\n",
       "      <td>Relaxing It</td>\n",
       "      <td>1</td>\n",
       "    </tr>\n",
       "    <tr>\n",
       "      <th>403</th>\n",
       "      <td>DistantNemesis</td>\n",
       "      <td>55</td>\n",
       "      <td>2010</td>\n",
       "      <td>https://audiojungle.net/item/relaxing/15840468</td>\n",
       "      <td>02:11</td>\n",
       "      <td>Relaxing</td>\n",
       "      <td>1</td>\n",
       "    </tr>\n",
       "    <tr>\n",
       "      <th>1171</th>\n",
       "      <td>Sonelibrary</td>\n",
       "      <td>126</td>\n",
       "      <td>2010</td>\n",
       "      <td>https://audiojungle.net/item/sunday-morning/18...</td>\n",
       "      <td>03:19</td>\n",
       "      <td>Relax Folk</td>\n",
       "      <td>1</td>\n",
       "    </tr>\n",
       "  </tbody>\n",
       "</table>\n",
       "</div>"
      ],
      "text/plain": [
       "                    Artist  listen_count  year  \\\n",
       "882               Musicare            22  2010   \n",
       "236   BlackLionProductions            23  2010   \n",
       "177              AuraStock            23  2010   \n",
       "562               JD-sound            25  2010   \n",
       "1185          SoundProject            26  2010   \n",
       "38              AShamaluev            26  2010   \n",
       "828              Mitrynium            28  2010   \n",
       "433         EightBallAudio            52  2010   \n",
       "403         DistantNemesis            55  2010   \n",
       "1171           Sonelibrary           126  2010   \n",
       "\n",
       "                                               Name_URL Audio_Length  \\\n",
       "882    https://audiojungle.net/item/relaxation/11386432        02:19   \n",
       "236   https://audiojungle.net/item/relaxing-atmosphe...        10:41   \n",
       "177   https://audiojungle.net/item/ten-minutes-of-re...        10:00   \n",
       "562   https://audiojungle.net/item/relax-corporate/1...        04:08   \n",
       "1185        https://audiojungle.net/item/relax/21576416        02:22   \n",
       "38    https://audiojungle.net/item/relaxing-ambient/...        12:20   \n",
       "828   https://audiojungle.net/item/relax-piano/31848417        07:49   \n",
       "433   https://audiojungle.net/item/corporate-eleganc...        02:15   \n",
       "403      https://audiojungle.net/item/relaxing/15840468        02:11   \n",
       "1171  https://audiojungle.net/item/sunday-morning/18...        03:19   \n",
       "\n",
       "                                  Genere  0  \n",
       "882                           Relaxation  1  \n",
       "236                  Relaxing Atmosphere  1  \n",
       "177   Ten Minutes of Relaxing Meditation  1  \n",
       "562                      Relax Corporate  1  \n",
       "1185                               Relax  1  \n",
       "38                      Relaxing Ambient  1  \n",
       "828                          Relax Piano  1  \n",
       "433                          Relaxing It  1  \n",
       "403                             Relaxing  1  \n",
       "1171                          Relax Folk  1  "
      ]
     },
     "execution_count": 76,
     "metadata": {},
     "output_type": "execute_result"
    }
   ],
   "source": [
    "dist_Artist=df_music.groupby(['Artist','listen_count','year','Name_URL','Audio_Length','Genere']).size().reset_index()\n",
    "highest_count_artist=dist_Artist.sort_values('listen_count').tail(10)\n",
    "highest_count_artist"
   ]
  },
  {
   "cell_type": "code",
   "execution_count": 77,
   "id": "4587eefd",
   "metadata": {
    "ExecuteTime": {
     "end_time": "2022-03-13T16:09:06.878627Z",
     "start_time": "2022-03-13T16:09:06.865256Z"
    }
   },
   "outputs": [
    {
     "data": {
      "text/html": [
       "<div>\n",
       "<style scoped>\n",
       "    .dataframe tbody tr th:only-of-type {\n",
       "        vertical-align: middle;\n",
       "    }\n",
       "\n",
       "    .dataframe tbody tr th {\n",
       "        vertical-align: top;\n",
       "    }\n",
       "\n",
       "    .dataframe thead th {\n",
       "        text-align: right;\n",
       "    }\n",
       "</style>\n",
       "<table border=\"1\" class=\"dataframe\">\n",
       "  <thead>\n",
       "    <tr style=\"text-align: right;\">\n",
       "      <th></th>\n",
       "      <th>Artist</th>\n",
       "      <th>listen_count</th>\n",
       "      <th>year</th>\n",
       "      <th>Name_URL</th>\n",
       "      <th>Audio_Length</th>\n",
       "      <th>Genere</th>\n",
       "      <th>0</th>\n",
       "    </tr>\n",
       "  </thead>\n",
       "  <tbody>\n",
       "    <tr>\n",
       "      <th>896</th>\n",
       "      <td>NeoTunes</td>\n",
       "      <td>1</td>\n",
       "      <td>2010</td>\n",
       "      <td>https://audiojungle.net/item/meditation/33467305</td>\n",
       "      <td>06:18</td>\n",
       "      <td>Relax Music For Sleep</td>\n",
       "      <td>1</td>\n",
       "    </tr>\n",
       "    <tr>\n",
       "      <th>1347</th>\n",
       "      <td>UrbanGodzilla</td>\n",
       "      <td>1</td>\n",
       "      <td>2010</td>\n",
       "      <td>https://audiojungle.net/item/ambient-relax/356...</td>\n",
       "      <td>02:10</td>\n",
       "      <td>Ambient Relax</td>\n",
       "      <td>1</td>\n",
       "    </tr>\n",
       "    <tr>\n",
       "      <th>1346</th>\n",
       "      <td>UpTheMusic</td>\n",
       "      <td>1</td>\n",
       "      <td>2010</td>\n",
       "      <td>https://audiojungle.net/item/relax-background/...</td>\n",
       "      <td>02:19</td>\n",
       "      <td>Relax Background</td>\n",
       "      <td>1</td>\n",
       "    </tr>\n",
       "    <tr>\n",
       "      <th>1345</th>\n",
       "      <td>UpTheMusic</td>\n",
       "      <td>1</td>\n",
       "      <td>2010</td>\n",
       "      <td>https://audiojungle.net/item/inspire-ambient/2...</td>\n",
       "      <td>02:27</td>\n",
       "      <td>Relax</td>\n",
       "      <td>1</td>\n",
       "    </tr>\n",
       "    <tr>\n",
       "      <th>1344</th>\n",
       "      <td>UpTheMusic</td>\n",
       "      <td>1</td>\n",
       "      <td>2010</td>\n",
       "      <td>https://audiojungle.net/item/commercial-music/...</td>\n",
       "      <td>02:32</td>\n",
       "      <td>Relax Background</td>\n",
       "      <td>1</td>\n",
       "    </tr>\n",
       "  </tbody>\n",
       "</table>\n",
       "</div>"
      ],
      "text/plain": [
       "             Artist  listen_count  year  \\\n",
       "896        NeoTunes             1  2010   \n",
       "1347  UrbanGodzilla             1  2010   \n",
       "1346     UpTheMusic             1  2010   \n",
       "1345     UpTheMusic             1  2010   \n",
       "1344     UpTheMusic             1  2010   \n",
       "\n",
       "                                               Name_URL Audio_Length  \\\n",
       "896    https://audiojungle.net/item/meditation/33467305        06:18   \n",
       "1347  https://audiojungle.net/item/ambient-relax/356...        02:10   \n",
       "1346  https://audiojungle.net/item/relax-background/...        02:19   \n",
       "1345  https://audiojungle.net/item/inspire-ambient/2...        02:27   \n",
       "1344  https://audiojungle.net/item/commercial-music/...        02:32   \n",
       "\n",
       "                     Genere  0  \n",
       "896   Relax Music For Sleep  1  \n",
       "1347          Ambient Relax  1  \n",
       "1346       Relax Background  1  \n",
       "1345                  Relax  1  \n",
       "1344       Relax Background  1  "
      ]
     },
     "execution_count": 77,
     "metadata": {},
     "output_type": "execute_result"
    }
   ],
   "source": [
    "dist_Artist.sort_values('listen_count').head()"
   ]
  },
  {
   "cell_type": "code",
   "execution_count": 78,
   "id": "1b2e45ca",
   "metadata": {
    "ExecuteTime": {
     "end_time": "2022-03-13T16:09:07.057363Z",
     "start_time": "2022-03-13T16:09:06.879623Z"
    }
   },
   "outputs": [
    {
     "data": {
      "text/plain": [
       "<AxesSubplot:xlabel='Artist', ylabel='listen_count'>"
      ]
     },
     "execution_count": 78,
     "metadata": {},
     "output_type": "execute_result"
    },
    {
     "data": {
      "image/png": "[encoded data removed]",
      "text/plain": [
       "<Figure size 864x432 with 1 Axes>"
      ]
     },
     "metadata": {
      "needs_background": "light"
     },
     "output_type": "display_data"
    }
   ],
   "source": [
    "sns.barplot(x=\"Artist\",y=\"listen_count\",data=highest_count_artist)"
   ]
  },
  {
   "cell_type": "code",
   "execution_count": 79,
   "id": "f1037db6",
   "metadata": {
    "ExecuteTime": {
     "end_time": "2022-03-13T16:09:07.448127Z",
     "start_time": "2022-03-13T16:09:07.058328Z"
    }
   },
   "outputs": [
    {
     "data": {
      "text/plain": [
       "<AxesSubplot:xlabel='listen_count', ylabel='count'>"
      ]
     },
     "execution_count": 79,
     "metadata": {},
     "output_type": "execute_result"
    },
    {
     "data": {
      "image/png": "[encoded data removed]",
      "text/plain": [
       "<Figure size 864x432 with 1 Axes>"
      ]
     },
     "metadata": {
      "needs_background": "light"
     },
     "output_type": "display_data"
    }
   ],
   "source": [
    "sns.countplot(x=\"listen_count\",data=dist_Artist)"
   ]
  },
  {
   "cell_type": "code",
   "execution_count": 80,
   "id": "369f0217",
   "metadata": {
    "ExecuteTime": {
     "end_time": "2022-03-13T16:09:07.464003Z",
     "start_time": "2022-03-13T16:09:07.452116Z"
    }
   },
   "outputs": [],
   "source": [
    "Artist_values=dist_Artist.Artist.value_counts().values\n",
    "Artist_labels=dist_Artist.Artist.value_counts().index"
   ]
  },
  {
   "cell_type": "code",
   "execution_count": 81,
   "id": "65975c50",
   "metadata": {
    "ExecuteTime": {
     "end_time": "2022-03-13T16:09:07.587793Z",
     "start_time": "2022-03-13T16:09:07.468271Z"
    }
   },
   "outputs": [
    {
     "data": {
      "text/plain": [
       "([<matplotlib.patches.Wedge at 0x249cea6f280>,\n",
       "  <matplotlib.patches.Wedge at 0x249cea6f9a0>,\n",
       "  <matplotlib.patches.Wedge at 0x249cea6ff70>,\n",
       "  <matplotlib.patches.Wedge at 0x249cea7e550>,\n",
       "  <matplotlib.patches.Wedge at 0x249cea7eb50>],\n",
       " [Text(0.6429742411414772, 0.8925156162379132, 'OlexandrIgnatov'),\n",
       "  Text(-0.9176817452708893, 0.6065148097091898, 'Lotus_Sound'),\n",
       "  Text(-0.8925156162379133, -0.6429742411414768, 'Praded'),\n",
       "  Text(0.11057425284450813, -1.0944283140561921, 'TineVibe'),\n",
       "  Text(0.9740016668759548, -0.5111954155925714, 'meditative')],\n",
       " [Text(0.35071322244080566, 0.4868266997661344, '30.13%'),\n",
       "  Text(-0.5005536792386668, 0.33082625984137626, '21.15%'),\n",
       "  Text(-0.48682669976613446, -0.35071322244080555, '17.31%'),\n",
       "  Text(0.06031322882427716, -0.5969608985761047, '16.03%'),\n",
       "  Text(0.5312736364777935, -0.27883386305049346, '15.38%')])"
      ]
     },
     "execution_count": 81,
     "metadata": {},
     "output_type": "execute_result"
    },
    {
     "data": {
      "image/png": "[encoded data removed]",
      "text/plain": [
       "<Figure size 864x432 with 1 Axes>"
      ]
     },
     "metadata": {},
     "output_type": "display_data"
    }
   ],
   "source": [
    "plt.pie(Artist_values[:5],labels=Artist_labels[:5],autopct='%1.2f%%')"
   ]
  },
  {
   "cell_type": "code",
   "execution_count": 82,
   "id": "ae198e7c",
   "metadata": {
    "ExecuteTime": {
     "end_time": "2022-03-13T16:09:07.603367Z",
     "start_time": "2022-03-13T16:09:07.591426Z"
    }
   },
   "outputs": [
    {
     "data": {
      "text/plain": [
       "Index(['Genere', 'Artist', 'listen_count', 'Name_URL', 'year', 'Audio_Length'], dtype='object')"
      ]
     },
     "execution_count": 82,
     "metadata": {},
     "output_type": "execute_result"
    }
   ],
   "source": [
    "df_music.columns"
   ]
  },
  {
   "cell_type": "code",
   "execution_count": 83,
   "id": "58516ccf",
   "metadata": {
    "ExecuteTime": {
     "end_time": "2022-03-13T16:09:07.615630Z",
     "start_time": "2022-03-13T16:09:07.607347Z"
    }
   },
   "outputs": [],
   "source": [
    "Genere_values=dist_Artist.Genere.value_counts().values\n",
    "Genere_labels=dist_Artist.Genere.value_counts().index"
   ]
  },
  {
   "cell_type": "code",
   "execution_count": 84,
   "id": "e347e139",
   "metadata": {
    "ExecuteTime": {
     "end_time": "2022-03-13T16:09:07.728400Z",
     "start_time": "2022-03-13T16:09:07.619798Z"
    },
    "scrolled": true
   },
   "outputs": [
    {
     "data": {
      "text/plain": [
       "([<matplotlib.patches.Wedge at 0x249ce2b4e80>,\n",
       "  <matplotlib.patches.Wedge at 0x249ce2c05b0>,\n",
       "  <matplotlib.patches.Wedge at 0x249ce2c0b50>,\n",
       "  <matplotlib.patches.Wedge at 0x249ce2cd190>,\n",
       "  <matplotlib.patches.Wedge at 0x249ce2cd790>],\n",
       " [Text(0.17333572420995713, 1.0862572102005168, 'Relax'),\n",
       "  Text(-1.0253581772921823, -0.39829713564128705, 'Relaxation'),\n",
       "  Text(-0.04668534715418001, -1.0990088618210019, 'Relaxing'),\n",
       "  Text(0.7330942520161112, -0.82010536985252, 'Relaxing Meditation'),\n",
       "  Text(1.0601005650894941, -0.2935758707675676, 'Relaxing Piano')],\n",
       " [Text(0.09454675865997661, 0.5925039328366455, '44.96%'),\n",
       "  Text(-0.5592862785230085, -0.21725298307706564, '21.87%'),\n",
       "  Text(-0.02546473481137091, -0.5994593791750918, '14.99%'),\n",
       "  Text(0.3998695920087879, -0.44733020173773813, '9.58%'),\n",
       "  Text(0.5782366718669967, -0.16013229314594593, '8.60%')])"
      ]
     },
     "execution_count": 84,
     "metadata": {},
     "output_type": "execute_result"
    },
    {
     "data": {
      "image/png": "[encoded data removed]",
      "text/plain": [
       "<Figure size 864x432 with 1 Axes>"
      ]
     },
     "metadata": {},
     "output_type": "display_data"
    }
   ],
   "source": [
    "plt.pie(Genere_values[:5],labels=Genere_labels[:5],autopct='%1.2f%%')"
   ]
  },
  {
   "cell_type": "code",
   "execution_count": 106,
   "id": "6d0a2027",
   "metadata": {
    "ExecuteTime": {
     "end_time": "2022-03-13T16:10:50.351725Z",
     "start_time": "2022-03-13T16:10:50.325222Z"
    }
   },
   "outputs": [
    {
     "data": {
      "text/html": [
       "<div>\n",
       "<style scoped>\n",
       "    .dataframe tbody tr th:only-of-type {\n",
       "        vertical-align: middle;\n",
       "    }\n",
       "\n",
       "    .dataframe tbody tr th {\n",
       "        vertical-align: top;\n",
       "    }\n",
       "\n",
       "    .dataframe thead th {\n",
       "        text-align: right;\n",
       "    }\n",
       "</style>\n",
       "<table border=\"1\" class=\"dataframe\">\n",
       "  <thead>\n",
       "    <tr style=\"text-align: right;\">\n",
       "      <th></th>\n",
       "      <th>user_id</th>\n",
       "      <th>song_id</th>\n",
       "      <th>Genere</th>\n",
       "      <th>Artist</th>\n",
       "      <th>listen_count</th>\n",
       "      <th>Name_URL</th>\n",
       "      <th>year</th>\n",
       "      <th>Audio_Length</th>\n",
       "    </tr>\n",
       "  </thead>\n",
       "  <tbody>\n",
       "    <tr>\n",
       "      <th>0</th>\n",
       "      <td>b80344d063b5ccb3212f76538f3d9e43d87dca9e</td>\n",
       "      <td>SOQMMHC12AB0180CB8</td>\n",
       "      <td>Relaxing Synth</td>\n",
       "      <td>AlexBoshMusic</td>\n",
       "      <td>1</td>\n",
       "      <td>https://audiojungle.net/item/relaxing-synth/35...</td>\n",
       "      <td>2011</td>\n",
       "      <td>02:06</td>\n",
       "    </tr>\n",
       "    <tr>\n",
       "      <th>1</th>\n",
       "      <td>b80344d063b5ccb3212f76538f3d9e43d87dca9e</td>\n",
       "      <td>SOVFVAK12A8C1350D9</td>\n",
       "      <td>Relax</td>\n",
       "      <td>TomyJiz</td>\n",
       "      <td>2</td>\n",
       "      <td>https://audiojungle.net/item/relax/31913389</td>\n",
       "      <td>2010</td>\n",
       "      <td>02:49</td>\n",
       "    </tr>\n",
       "    <tr>\n",
       "      <th>2</th>\n",
       "      <td>b80344d063b5ccb3212f76538f3d9e43d87dca9e</td>\n",
       "      <td>SOGTUKN12AB017F4F1</td>\n",
       "      <td>Relaxed</td>\n",
       "      <td>TomyJiz</td>\n",
       "      <td>1</td>\n",
       "      <td>https://audiojungle.net/item/relaxed/33455746</td>\n",
       "      <td>2010</td>\n",
       "      <td>03:32</td>\n",
       "    </tr>\n",
       "    <tr>\n",
       "      <th>3</th>\n",
       "      <td>b80344d063b5ccb3212f76538f3d9e43d87dca9e</td>\n",
       "      <td>SOBNYVR12A8C13558C</td>\n",
       "      <td>Soft Relaxing Music</td>\n",
       "      <td>5VNDY</td>\n",
       "      <td>1</td>\n",
       "      <td>https://audiojungle.net/item/soft-relaxing-mus...</td>\n",
       "      <td>2010</td>\n",
       "      <td>02:45</td>\n",
       "    </tr>\n",
       "    <tr>\n",
       "      <th>4</th>\n",
       "      <td>b80344d063b5ccb3212f76538f3d9e43d87dca9e</td>\n",
       "      <td>SOHSBXH12A8C13B0DF</td>\n",
       "      <td>Peaceful Relaxing Ambient Corporate</td>\n",
       "      <td>5VNDY</td>\n",
       "      <td>1</td>\n",
       "      <td>https://audiojungle.net/item/peaceful-relaxing...</td>\n",
       "      <td>2010</td>\n",
       "      <td>02:28</td>\n",
       "    </tr>\n",
       "  </tbody>\n",
       "</table>\n",
       "</div>"
      ],
      "text/plain": [
       "                                    user_id             song_id  \\\n",
       "0  b80344d063b5ccb3212f76538f3d9e43d87dca9e  SOQMMHC12AB0180CB8   \n",
       "1  b80344d063b5ccb3212f76538f3d9e43d87dca9e  SOVFVAK12A8C1350D9   \n",
       "2  b80344d063b5ccb3212f76538f3d9e43d87dca9e  SOGTUKN12AB017F4F1   \n",
       "3  b80344d063b5ccb3212f76538f3d9e43d87dca9e  SOBNYVR12A8C13558C   \n",
       "4  b80344d063b5ccb3212f76538f3d9e43d87dca9e  SOHSBXH12A8C13B0DF   \n",
       "\n",
       "                                Genere         Artist  listen_count  \\\n",
       "0                       Relaxing Synth  AlexBoshMusic             1   \n",
       "1                                Relax        TomyJiz             2   \n",
       "2                              Relaxed        TomyJiz             1   \n",
       "3                  Soft Relaxing Music          5VNDY             1   \n",
       "4  Peaceful Relaxing Ambient Corporate          5VNDY             1   \n",
       "\n",
       "                                            Name_URL  year Audio_Length  \n",
       "0  https://audiojungle.net/item/relaxing-synth/35...  2011        02:06  \n",
       "1        https://audiojungle.net/item/relax/31913389  2010        02:49  \n",
       "2      https://audiojungle.net/item/relaxed/33455746  2010        03:32  \n",
       "3  https://audiojungle.net/item/soft-relaxing-mus...  2010        02:45  \n",
       "4  https://audiojungle.net/item/peaceful-relaxing...  2010        02:28  "
      ]
     },
     "execution_count": 106,
     "metadata": {},
     "output_type": "execute_result"
    }
   ],
   "source": [
    "df.head()"
   ]
  },
  {
   "cell_type": "code",
   "execution_count": 109,
   "id": "4ae44d1e",
   "metadata": {
    "ExecuteTime": {
     "end_time": "2022-03-13T16:15:29.718664Z",
     "start_time": "2022-03-13T16:15:29.697155Z"
    }
   },
   "outputs": [
    {
     "data": {
      "text/html": [
       "<div>\n",
       "<style scoped>\n",
       "    .dataframe tbody tr th:only-of-type {\n",
       "        vertical-align: middle;\n",
       "    }\n",
       "\n",
       "    .dataframe tbody tr th {\n",
       "        vertical-align: top;\n",
       "    }\n",
       "\n",
       "    .dataframe thead th {\n",
       "        text-align: right;\n",
       "    }\n",
       "</style>\n",
       "<table border=\"1\" class=\"dataframe\">\n",
       "  <thead>\n",
       "    <tr style=\"text-align: right;\">\n",
       "      <th></th>\n",
       "      <th>user_id</th>\n",
       "      <th>song_id</th>\n",
       "      <th>Genere</th>\n",
       "      <th>Artist</th>\n",
       "      <th>listen_count</th>\n",
       "      <th>Name_URL</th>\n",
       "      <th>year</th>\n",
       "      <th>Audio_Length</th>\n",
       "      <th>songs</th>\n",
       "    </tr>\n",
       "  </thead>\n",
       "  <tbody>\n",
       "    <tr>\n",
       "      <th>0</th>\n",
       "      <td>b80344d063b5ccb3212f76538f3d9e43d87dca9e</td>\n",
       "      <td>SOQMMHC12AB0180CB8</td>\n",
       "      <td>Relaxing Synth</td>\n",
       "      <td>AlexBoshMusic</td>\n",
       "      <td>1</td>\n",
       "      <td>https://audiojungle.net/item/relaxing-synth/35...</td>\n",
       "      <td>2011</td>\n",
       "      <td>02:06</td>\n",
       "      <td>Relaxing Synth-AlexBoshMusic</td>\n",
       "    </tr>\n",
       "    <tr>\n",
       "      <th>1</th>\n",
       "      <td>b80344d063b5ccb3212f76538f3d9e43d87dca9e</td>\n",
       "      <td>SOVFVAK12A8C1350D9</td>\n",
       "      <td>Relax</td>\n",
       "      <td>TomyJiz</td>\n",
       "      <td>2</td>\n",
       "      <td>https://audiojungle.net/item/relax/31913389</td>\n",
       "      <td>2010</td>\n",
       "      <td>02:49</td>\n",
       "      <td>Relax-TomyJiz</td>\n",
       "    </tr>\n",
       "    <tr>\n",
       "      <th>2</th>\n",
       "      <td>b80344d063b5ccb3212f76538f3d9e43d87dca9e</td>\n",
       "      <td>SOGTUKN12AB017F4F1</td>\n",
       "      <td>Relaxed</td>\n",
       "      <td>TomyJiz</td>\n",
       "      <td>1</td>\n",
       "      <td>https://audiojungle.net/item/relaxed/33455746</td>\n",
       "      <td>2010</td>\n",
       "      <td>03:32</td>\n",
       "      <td>Relaxed-TomyJiz</td>\n",
       "    </tr>\n",
       "    <tr>\n",
       "      <th>3</th>\n",
       "      <td>b80344d063b5ccb3212f76538f3d9e43d87dca9e</td>\n",
       "      <td>SOBNYVR12A8C13558C</td>\n",
       "      <td>Soft Relaxing Music</td>\n",
       "      <td>5VNDY</td>\n",
       "      <td>1</td>\n",
       "      <td>https://audiojungle.net/item/soft-relaxing-mus...</td>\n",
       "      <td>2010</td>\n",
       "      <td>02:45</td>\n",
       "      <td>Soft Relaxing Music-5VNDY</td>\n",
       "    </tr>\n",
       "    <tr>\n",
       "      <th>4</th>\n",
       "      <td>b80344d063b5ccb3212f76538f3d9e43d87dca9e</td>\n",
       "      <td>SOHSBXH12A8C13B0DF</td>\n",
       "      <td>Peaceful Relaxing Ambient Corporate</td>\n",
       "      <td>5VNDY</td>\n",
       "      <td>1</td>\n",
       "      <td>https://audiojungle.net/item/peaceful-relaxing...</td>\n",
       "      <td>2010</td>\n",
       "      <td>02:28</td>\n",
       "      <td>Peaceful Relaxing Ambient Corporate-5VNDY</td>\n",
       "    </tr>\n",
       "  </tbody>\n",
       "</table>\n",
       "</div>"
      ],
      "text/plain": [
       "                                    user_id             song_id  \\\n",
       "0  b80344d063b5ccb3212f76538f3d9e43d87dca9e  SOQMMHC12AB0180CB8   \n",
       "1  b80344d063b5ccb3212f76538f3d9e43d87dca9e  SOVFVAK12A8C1350D9   \n",
       "2  b80344d063b5ccb3212f76538f3d9e43d87dca9e  SOGTUKN12AB017F4F1   \n",
       "3  b80344d063b5ccb3212f76538f3d9e43d87dca9e  SOBNYVR12A8C13558C   \n",
       "4  b80344d063b5ccb3212f76538f3d9e43d87dca9e  SOHSBXH12A8C13B0DF   \n",
       "\n",
       "                                Genere         Artist  listen_count  \\\n",
       "0                       Relaxing Synth  AlexBoshMusic             1   \n",
       "1                                Relax        TomyJiz             2   \n",
       "2                              Relaxed        TomyJiz             1   \n",
       "3                  Soft Relaxing Music          5VNDY             1   \n",
       "4  Peaceful Relaxing Ambient Corporate          5VNDY             1   \n",
       "\n",
       "                                            Name_URL  year Audio_Length  \\\n",
       "0  https://audiojungle.net/item/relaxing-synth/35...  2011        02:06   \n",
       "1        https://audiojungle.net/item/relax/31913389  2010        02:49   \n",
       "2      https://audiojungle.net/item/relaxed/33455746  2010        03:32   \n",
       "3  https://audiojungle.net/item/soft-relaxing-mus...  2010        02:45   \n",
       "4  https://audiojungle.net/item/peaceful-relaxing...  2010        02:28   \n",
       "\n",
       "                                       songs  \n",
       "0               Relaxing Synth-AlexBoshMusic  \n",
       "1                              Relax-TomyJiz  \n",
       "2                            Relaxed-TomyJiz  \n",
       "3                  Soft Relaxing Music-5VNDY  \n",
       "4  Peaceful Relaxing Ambient Corporate-5VNDY  "
      ]
     },
     "execution_count": 109,
     "metadata": {},
     "output_type": "execute_result"
    }
   ],
   "source": [
    "df['songs']=df['Genere'] + '-'+df['Artist']\n",
    "df.head()"
   ]
  },
  {
   "cell_type": "code",
   "execution_count": 110,
   "id": "9fbbd357",
   "metadata": {
    "ExecuteTime": {
     "end_time": "2022-03-13T16:16:11.139373Z",
     "start_time": "2022-03-13T16:16:11.122648Z"
    }
   },
   "outputs": [
    {
     "data": {
      "text/html": [
       "<div>\n",
       "<style scoped>\n",
       "    .dataframe tbody tr th:only-of-type {\n",
       "        vertical-align: middle;\n",
       "    }\n",
       "\n",
       "    .dataframe tbody tr th {\n",
       "        vertical-align: top;\n",
       "    }\n",
       "\n",
       "    .dataframe thead th {\n",
       "        text-align: right;\n",
       "    }\n",
       "</style>\n",
       "<table border=\"1\" class=\"dataframe\">\n",
       "  <thead>\n",
       "    <tr style=\"text-align: right;\">\n",
       "      <th></th>\n",
       "      <th>user_id</th>\n",
       "      <th>song_id</th>\n",
       "      <th>listen_count</th>\n",
       "      <th>Name_URL</th>\n",
       "      <th>year</th>\n",
       "      <th>Audio_Length</th>\n",
       "      <th>songs</th>\n",
       "    </tr>\n",
       "  </thead>\n",
       "  <tbody>\n",
       "    <tr>\n",
       "      <th>0</th>\n",
       "      <td>b80344d063b5ccb3212f76538f3d9e43d87dca9e</td>\n",
       "      <td>SOQMMHC12AB0180CB8</td>\n",
       "      <td>1</td>\n",
       "      <td>https://audiojungle.net/item/relaxing-synth/35...</td>\n",
       "      <td>2011</td>\n",
       "      <td>02:06</td>\n",
       "      <td>Relaxing Synth-AlexBoshMusic</td>\n",
       "    </tr>\n",
       "    <tr>\n",
       "      <th>1</th>\n",
       "      <td>b80344d063b5ccb3212f76538f3d9e43d87dca9e</td>\n",
       "      <td>SOVFVAK12A8C1350D9</td>\n",
       "      <td>2</td>\n",
       "      <td>https://audiojungle.net/item/relax/31913389</td>\n",
       "      <td>2010</td>\n",
       "      <td>02:49</td>\n",
       "      <td>Relax-TomyJiz</td>\n",
       "    </tr>\n",
       "    <tr>\n",
       "      <th>2</th>\n",
       "      <td>b80344d063b5ccb3212f76538f3d9e43d87dca9e</td>\n",
       "      <td>SOGTUKN12AB017F4F1</td>\n",
       "      <td>1</td>\n",
       "      <td>https://audiojungle.net/item/relaxed/33455746</td>\n",
       "      <td>2010</td>\n",
       "      <td>03:32</td>\n",
       "      <td>Relaxed-TomyJiz</td>\n",
       "    </tr>\n",
       "    <tr>\n",
       "      <th>3</th>\n",
       "      <td>b80344d063b5ccb3212f76538f3d9e43d87dca9e</td>\n",
       "      <td>SOBNYVR12A8C13558C</td>\n",
       "      <td>1</td>\n",
       "      <td>https://audiojungle.net/item/soft-relaxing-mus...</td>\n",
       "      <td>2010</td>\n",
       "      <td>02:45</td>\n",
       "      <td>Soft Relaxing Music-5VNDY</td>\n",
       "    </tr>\n",
       "    <tr>\n",
       "      <th>4</th>\n",
       "      <td>b80344d063b5ccb3212f76538f3d9e43d87dca9e</td>\n",
       "      <td>SOHSBXH12A8C13B0DF</td>\n",
       "      <td>1</td>\n",
       "      <td>https://audiojungle.net/item/peaceful-relaxing...</td>\n",
       "      <td>2010</td>\n",
       "      <td>02:28</td>\n",
       "      <td>Peaceful Relaxing Ambient Corporate-5VNDY</td>\n",
       "    </tr>\n",
       "  </tbody>\n",
       "</table>\n",
       "</div>"
      ],
      "text/plain": [
       "                                    user_id             song_id  listen_count  \\\n",
       "0  b80344d063b5ccb3212f76538f3d9e43d87dca9e  SOQMMHC12AB0180CB8             1   \n",
       "1  b80344d063b5ccb3212f76538f3d9e43d87dca9e  SOVFVAK12A8C1350D9             2   \n",
       "2  b80344d063b5ccb3212f76538f3d9e43d87dca9e  SOGTUKN12AB017F4F1             1   \n",
       "3  b80344d063b5ccb3212f76538f3d9e43d87dca9e  SOBNYVR12A8C13558C             1   \n",
       "4  b80344d063b5ccb3212f76538f3d9e43d87dca9e  SOHSBXH12A8C13B0DF             1   \n",
       "\n",
       "                                            Name_URL  year Audio_Length  \\\n",
       "0  https://audiojungle.net/item/relaxing-synth/35...  2011        02:06   \n",
       "1        https://audiojungle.net/item/relax/31913389  2010        02:49   \n",
       "2      https://audiojungle.net/item/relaxed/33455746  2010        03:32   \n",
       "3  https://audiojungle.net/item/soft-relaxing-mus...  2010        02:45   \n",
       "4  https://audiojungle.net/item/peaceful-relaxing...  2010        02:28   \n",
       "\n",
       "                                       songs  \n",
       "0               Relaxing Synth-AlexBoshMusic  \n",
       "1                              Relax-TomyJiz  \n",
       "2                            Relaxed-TomyJiz  \n",
       "3                  Soft Relaxing Music-5VNDY  \n",
       "4  Peaceful Relaxing Ambient Corporate-5VNDY  "
      ]
     },
     "execution_count": 110,
     "metadata": {},
     "output_type": "execute_result"
    }
   ],
   "source": [
    "df=df.drop(['Genere','Artist'],axis=1)\n",
    "df.head()"
   ]
  },
  {
   "cell_type": "code",
   "execution_count": 111,
   "id": "c535458f",
   "metadata": {
    "ExecuteTime": {
     "end_time": "2022-03-13T16:16:19.608179Z",
     "start_time": "2022-03-13T16:16:19.602028Z"
    }
   },
   "outputs": [],
   "source": [
    "from sklearn.feature_extraction.text import CountVectorizer\n",
    "cv = CountVectorizer(max_features=2000,stop_words='english')"
   ]
  },
  {
   "cell_type": "code",
   "execution_count": 112,
   "id": "bf6f4f66",
   "metadata": {
    "ExecuteTime": {
     "end_time": "2022-03-13T16:16:26.573869Z",
     "start_time": "2022-03-13T16:16:26.545660Z"
    }
   },
   "outputs": [],
   "source": [
    "vector = cv.fit_transform(df['songs']).toarray()"
   ]
  },
  {
   "cell_type": "code",
   "execution_count": 113,
   "id": "9f333152",
   "metadata": {
    "ExecuteTime": {
     "end_time": "2022-03-13T16:16:28.710887Z",
     "start_time": "2022-03-13T16:16:28.698680Z"
    }
   },
   "outputs": [
    {
     "data": {
      "text/plain": [
       "(1793, 1122)"
      ]
     },
     "execution_count": 113,
     "metadata": {},
     "output_type": "execute_result"
    }
   ],
   "source": [
    "vector.shape"
   ]
  },
  {
   "cell_type": "code",
   "execution_count": 114,
   "id": "e4b93af7",
   "metadata": {
    "ExecuteTime": {
     "end_time": "2022-03-13T16:16:31.397727Z",
     "start_time": "2022-03-13T16:16:31.391675Z"
    }
   },
   "outputs": [],
   "source": [
    "from sklearn.metrics.pairwise import cosine_similarity"
   ]
  },
  {
   "cell_type": "code",
   "execution_count": 115,
   "id": "75e7623f",
   "metadata": {
    "ExecuteTime": {
     "end_time": "2022-03-13T16:16:33.837035Z",
     "start_time": "2022-03-13T16:16:33.745021Z"
    }
   },
   "outputs": [],
   "source": [
    "similarity = cosine_similarity(vector)# calculative the similarity of one vector to another"
   ]
  },
  {
   "cell_type": "code",
   "execution_count": 116,
   "id": "2319a4c5",
   "metadata": {
    "ExecuteTime": {
     "end_time": "2022-03-13T16:16:35.574297Z",
     "start_time": "2022-03-13T16:16:35.556735Z"
    }
   },
   "outputs": [
    {
     "data": {
      "text/plain": [
       "array([[1.        , 0.        , 0.        , ..., 0.        , 0.33333333,\n",
       "        0.33333333],\n",
       "       [0.        , 1.        , 0.5       , ..., 0.35355339, 0.        ,\n",
       "        0.        ],\n",
       "       [0.        , 0.5       , 1.        , ..., 0.        , 0.        ,\n",
       "        0.        ],\n",
       "       ...,\n",
       "       [0.        , 0.35355339, 0.        , ..., 1.        , 0.        ,\n",
       "        0.        ],\n",
       "       [0.33333333, 0.        , 0.        , ..., 0.        , 1.        ,\n",
       "        0.33333333],\n",
       "       [0.33333333, 0.        , 0.        , ..., 0.        , 0.33333333,\n",
       "        1.        ]])"
      ]
     },
     "execution_count": 116,
     "metadata": {},
     "output_type": "execute_result"
    }
   ],
   "source": [
    "similarity"
   ]
  },
  {
   "cell_type": "code",
   "execution_count": 117,
   "id": "86d61b91",
   "metadata": {
    "ExecuteTime": {
     "end_time": "2022-03-13T16:16:39.267557Z",
     "start_time": "2022-03-13T16:16:39.255606Z"
    }
   },
   "outputs": [
    {
     "data": {
      "text/plain": [
       "(1793, 1793)"
      ]
     },
     "execution_count": 117,
     "metadata": {},
     "output_type": "execute_result"
    }
   ],
   "source": [
    "similarity.shape# array of array"
   ]
  },
  {
   "cell_type": "code",
   "execution_count": 118,
   "id": "6b528a8f",
   "metadata": {
    "ExecuteTime": {
     "end_time": "2022-03-13T16:16:41.119194Z",
     "start_time": "2022-03-13T16:16:41.110896Z"
    }
   },
   "outputs": [
    {
     "data": {
      "text/plain": [
       "array([1.        , 0.        , 0.        , ..., 0.        , 0.33333333,\n",
       "       0.33333333])"
      ]
     },
     "execution_count": 118,
     "metadata": {},
     "output_type": "execute_result"
    }
   ],
   "source": [
    "similarity[0]"
   ]
  },
  {
   "cell_type": "code",
   "execution_count": 119,
   "id": "4283db3b",
   "metadata": {
    "ExecuteTime": {
     "end_time": "2022-03-13T16:16:44.626187Z",
     "start_time": "2022-03-13T16:16:44.608991Z"
    }
   },
   "outputs": [
    {
     "data": {
      "text/plain": [
       "array([0.        , 1.        , 0.5       , ..., 0.35355339, 0.        ,\n",
       "       0.        ])"
      ]
     },
     "execution_count": 119,
     "metadata": {},
     "output_type": "execute_result"
    }
   ],
   "source": [
    "similarity[1]# diagonal is 1"
   ]
  },
  {
   "cell_type": "code",
   "execution_count": 120,
   "id": "9c38e18b",
   "metadata": {
    "ExecuteTime": {
     "end_time": "2022-03-13T16:16:46.575145Z",
     "start_time": "2022-03-13T16:16:46.558545Z"
    }
   },
   "outputs": [
    {
     "data": {
      "text/html": [
       "<div>\n",
       "<style scoped>\n",
       "    .dataframe tbody tr th:only-of-type {\n",
       "        vertical-align: middle;\n",
       "    }\n",
       "\n",
       "    .dataframe tbody tr th {\n",
       "        vertical-align: top;\n",
       "    }\n",
       "\n",
       "    .dataframe thead th {\n",
       "        text-align: right;\n",
       "    }\n",
       "</style>\n",
       "<table border=\"1\" class=\"dataframe\">\n",
       "  <thead>\n",
       "    <tr style=\"text-align: right;\">\n",
       "      <th></th>\n",
       "      <th>user_id</th>\n",
       "      <th>song_id</th>\n",
       "      <th>listen_count</th>\n",
       "      <th>Name_URL</th>\n",
       "      <th>year</th>\n",
       "      <th>Audio_Length</th>\n",
       "      <th>songs</th>\n",
       "    </tr>\n",
       "  </thead>\n",
       "  <tbody>\n",
       "    <tr>\n",
       "      <th>0</th>\n",
       "      <td>b80344d063b5ccb3212f76538f3d9e43d87dca9e</td>\n",
       "      <td>SOQMMHC12AB0180CB8</td>\n",
       "      <td>1</td>\n",
       "      <td>https://audiojungle.net/item/relaxing-synth/35...</td>\n",
       "      <td>2011</td>\n",
       "      <td>02:06</td>\n",
       "      <td>Relaxing Synth-AlexBoshMusic</td>\n",
       "    </tr>\n",
       "    <tr>\n",
       "      <th>1</th>\n",
       "      <td>b80344d063b5ccb3212f76538f3d9e43d87dca9e</td>\n",
       "      <td>SOVFVAK12A8C1350D9</td>\n",
       "      <td>2</td>\n",
       "      <td>https://audiojungle.net/item/relax/31913389</td>\n",
       "      <td>2010</td>\n",
       "      <td>02:49</td>\n",
       "      <td>Relax-TomyJiz</td>\n",
       "    </tr>\n",
       "    <tr>\n",
       "      <th>2</th>\n",
       "      <td>b80344d063b5ccb3212f76538f3d9e43d87dca9e</td>\n",
       "      <td>SOGTUKN12AB017F4F1</td>\n",
       "      <td>1</td>\n",
       "      <td>https://audiojungle.net/item/relaxed/33455746</td>\n",
       "      <td>2010</td>\n",
       "      <td>03:32</td>\n",
       "      <td>Relaxed-TomyJiz</td>\n",
       "    </tr>\n",
       "    <tr>\n",
       "      <th>3</th>\n",
       "      <td>b80344d063b5ccb3212f76538f3d9e43d87dca9e</td>\n",
       "      <td>SOBNYVR12A8C13558C</td>\n",
       "      <td>1</td>\n",
       "      <td>https://audiojungle.net/item/soft-relaxing-mus...</td>\n",
       "      <td>2010</td>\n",
       "      <td>02:45</td>\n",
       "      <td>Soft Relaxing Music-5VNDY</td>\n",
       "    </tr>\n",
       "    <tr>\n",
       "      <th>4</th>\n",
       "      <td>b80344d063b5ccb3212f76538f3d9e43d87dca9e</td>\n",
       "      <td>SOHSBXH12A8C13B0DF</td>\n",
       "      <td>1</td>\n",
       "      <td>https://audiojungle.net/item/peaceful-relaxing...</td>\n",
       "      <td>2010</td>\n",
       "      <td>02:28</td>\n",
       "      <td>Peaceful Relaxing Ambient Corporate-5VNDY</td>\n",
       "    </tr>\n",
       "  </tbody>\n",
       "</table>\n",
       "</div>"
      ],
      "text/plain": [
       "                                    user_id             song_id  listen_count  \\\n",
       "0  b80344d063b5ccb3212f76538f3d9e43d87dca9e  SOQMMHC12AB0180CB8             1   \n",
       "1  b80344d063b5ccb3212f76538f3d9e43d87dca9e  SOVFVAK12A8C1350D9             2   \n",
       "2  b80344d063b5ccb3212f76538f3d9e43d87dca9e  SOGTUKN12AB017F4F1             1   \n",
       "3  b80344d063b5ccb3212f76538f3d9e43d87dca9e  SOBNYVR12A8C13558C             1   \n",
       "4  b80344d063b5ccb3212f76538f3d9e43d87dca9e  SOHSBXH12A8C13B0DF             1   \n",
       "\n",
       "                                            Name_URL  year Audio_Length  \\\n",
       "0  https://audiojungle.net/item/relaxing-synth/35...  2011        02:06   \n",
       "1        https://audiojungle.net/item/relax/31913389  2010        02:49   \n",
       "2      https://audiojungle.net/item/relaxed/33455746  2010        03:32   \n",
       "3  https://audiojungle.net/item/soft-relaxing-mus...  2010        02:45   \n",
       "4  https://audiojungle.net/item/peaceful-relaxing...  2010        02:28   \n",
       "\n",
       "                                       songs  \n",
       "0               Relaxing Synth-AlexBoshMusic  \n",
       "1                              Relax-TomyJiz  \n",
       "2                            Relaxed-TomyJiz  \n",
       "3                  Soft Relaxing Music-5VNDY  \n",
       "4  Peaceful Relaxing Ambient Corporate-5VNDY  "
      ]
     },
     "execution_count": 120,
     "metadata": {},
     "output_type": "execute_result"
    }
   ],
   "source": [
    "df.head()"
   ]
  },
  {
   "cell_type": "code",
   "execution_count": 121,
   "id": "8ba2b5ce",
   "metadata": {
    "ExecuteTime": {
     "end_time": "2022-03-13T16:17:04.615729Z",
     "start_time": "2022-03-13T16:17:04.596948Z"
    }
   },
   "outputs": [
    {
     "data": {
      "text/plain": [
       "0"
      ]
     },
     "execution_count": 121,
     "metadata": {},
     "output_type": "execute_result"
    }
   ],
   "source": [
    "df[df['songs']=='Relaxing Synth-AlexBoshMusic'].index[0]"
   ]
  },
  {
   "cell_type": "code",
   "execution_count": 122,
   "id": "7c190d4b",
   "metadata": {
    "ExecuteTime": {
     "end_time": "2022-03-13T16:17:07.388596Z",
     "start_time": "2022-03-13T16:17:07.347314Z"
    }
   },
   "outputs": [
    {
     "data": {
      "text/plain": [
       "[1.0000000000000002,\n",
       " 0.5773502691896258,\n",
       " 0.408248290463863,\n",
       " 0.408248290463863,\n",
       " 0.408248290463863,\n",
       " 0.408248290463863,\n",
       " 0.408248290463863,\n",
       " 0.408248290463863,\n",
       " 0.408248290463863,\n",
       " 0.408248290463863,\n",
       " 0.408248290463863,\n",
       " 0.408248290463863,\n",
       " 0.408248290463863,\n",
       " 0.408248290463863,\n",
       " 0.408248290463863,\n",
       " 0.408248290463863,\n",
       " 0.408248290463863,\n",
       " 0.408248290463863,\n",
       " 0.408248290463863,\n",
       " 0.408248290463863,\n",
       " 0.408248290463863,\n",
       " 0.408248290463863,\n",
       " 0.408248290463863,\n",
       " 0.408248290463863,\n",
       " 0.408248290463863,\n",
       " 0.408248290463863,\n",
       " 0.408248290463863,\n",
       " 0.408248290463863,\n",
       " 0.408248290463863,\n",
       " 0.408248290463863,\n",
       " 0.408248290463863,\n",
       " 0.408248290463863,\n",
       " 0.408248290463863,\n",
       " 0.408248290463863,\n",
       " 0.408248290463863,\n",
       " 0.408248290463863,\n",
       " 0.408248290463863,\n",
       " 0.408248290463863,\n",
       " 0.408248290463863,\n",
       " 0.408248290463863,\n",
       " 0.408248290463863,\n",
       " 0.408248290463863,\n",
       " 0.408248290463863,\n",
       " 0.408248290463863,\n",
       " 0.408248290463863,\n",
       " 0.408248290463863,\n",
       " 0.408248290463863,\n",
       " 0.408248290463863,\n",
       " 0.408248290463863,\n",
       " 0.408248290463863,\n",
       " 0.408248290463863,\n",
       " 0.408248290463863,\n",
       " 0.408248290463863,\n",
       " 0.408248290463863,\n",
       " 0.408248290463863,\n",
       " 0.408248290463863,\n",
       " 0.408248290463863,\n",
       " 0.408248290463863,\n",
       " 0.408248290463863,\n",
       " 0.408248290463863,\n",
       " 0.408248290463863,\n",
       " 0.408248290463863,\n",
       " 0.408248290463863,\n",
       " 0.408248290463863,\n",
       " 0.408248290463863,\n",
       " 0.408248290463863,\n",
       " 0.408248290463863,\n",
       " 0.408248290463863,\n",
       " 0.408248290463863,\n",
       " 0.408248290463863,\n",
       " 0.408248290463863,\n",
       " 0.408248290463863,\n",
       " 0.408248290463863,\n",
       " 0.408248290463863,\n",
       " 0.408248290463863,\n",
       " 0.3333333333333334,\n",
       " 0.3333333333333334,\n",
       " 0.3333333333333334,\n",
       " 0.3333333333333334,\n",
       " 0.3333333333333334,\n",
       " 0.3333333333333334,\n",
       " 0.3333333333333334,\n",
       " 0.3333333333333334,\n",
       " 0.3333333333333334,\n",
       " 0.3333333333333334,\n",
       " 0.3333333333333334,\n",
       " 0.3333333333333334,\n",
       " 0.3333333333333334,\n",
       " 0.3333333333333334,\n",
       " 0.3333333333333334,\n",
       " 0.3333333333333334,\n",
       " 0.3333333333333334,\n",
       " 0.3333333333333334,\n",
       " 0.3333333333333334,\n",
       " 0.3333333333333334,\n",
       " 0.3333333333333334,\n",
       " 0.3333333333333334,\n",
       " 0.3333333333333334,\n",
       " 0.3333333333333334,\n",
       " 0.3333333333333334,\n",
       " 0.3333333333333334,\n",
       " 0.3333333333333334,\n",
       " 0.3333333333333334,\n",
       " 0.3333333333333334,\n",
       " 0.3333333333333334,\n",
       " 0.3333333333333334,\n",
       " 0.3333333333333334,\n",
       " 0.3333333333333334,\n",
       " 0.3333333333333334,\n",
       " 0.3333333333333334,\n",
       " 0.3333333333333334,\n",
       " 0.3333333333333334,\n",
       " 0.3333333333333334,\n",
       " 0.3333333333333334,\n",
       " 0.3333333333333334,\n",
       " 0.3333333333333334,\n",
       " 0.3333333333333334,\n",
       " 0.3333333333333334,\n",
       " 0.3333333333333334,\n",
       " 0.3333333333333334,\n",
       " 0.3333333333333334,\n",
       " 0.3333333333333334,\n",
       " 0.3333333333333334,\n",
       " 0.3333333333333334,\n",
       " 0.3333333333333334,\n",
       " 0.3333333333333334,\n",
       " 0.3333333333333334,\n",
       " 0.3333333333333334,\n",
       " 0.3333333333333334,\n",
       " 0.3333333333333334,\n",
       " 0.3333333333333334,\n",
       " 0.3333333333333334,\n",
       " 0.3333333333333334,\n",
       " 0.3333333333333334,\n",
       " 0.3333333333333334,\n",
       " 0.3333333333333334,\n",
       " 0.3333333333333334,\n",
       " 0.3333333333333334,\n",
       " 0.3333333333333334,\n",
       " 0.3333333333333334,\n",
       " 0.3333333333333334,\n",
       " 0.3333333333333334,\n",
       " 0.3333333333333334,\n",
       " 0.3333333333333334,\n",
       " 0.3333333333333334,\n",
       " 0.3333333333333334,\n",
       " 0.3333333333333334,\n",
       " 0.3333333333333334,\n",
       " 0.3333333333333334,\n",
       " 0.3333333333333334,\n",
       " 0.3333333333333334,\n",
       " 0.3333333333333334,\n",
       " 0.3333333333333334,\n",
       " 0.3333333333333334,\n",
       " 0.3333333333333334,\n",
       " 0.3333333333333334,\n",
       " 0.3333333333333334,\n",
       " 0.3333333333333334,\n",
       " 0.3333333333333334,\n",
       " 0.3333333333333334,\n",
       " 0.3333333333333334,\n",
       " 0.3333333333333334,\n",
       " 0.3333333333333334,\n",
       " 0.3333333333333334,\n",
       " 0.3333333333333334,\n",
       " 0.3333333333333334,\n",
       " 0.3333333333333334,\n",
       " 0.3333333333333334,\n",
       " 0.3333333333333334,\n",
       " 0.3333333333333334,\n",
       " 0.3333333333333334,\n",
       " 0.3333333333333334,\n",
       " 0.3333333333333334,\n",
       " 0.3333333333333334,\n",
       " 0.3333333333333334,\n",
       " 0.3333333333333334,\n",
       " 0.3333333333333334,\n",
       " 0.3333333333333334,\n",
       " 0.3333333333333334,\n",
       " 0.3333333333333334,\n",
       " 0.3333333333333334,\n",
       " 0.3333333333333334,\n",
       " 0.3333333333333334,\n",
       " 0.3333333333333334,\n",
       " 0.3333333333333334,\n",
       " 0.3333333333333334,\n",
       " 0.3333333333333334,\n",
       " 0.3333333333333334,\n",
       " 0.3333333333333334,\n",
       " 0.3333333333333334,\n",
       " 0.3333333333333334,\n",
       " 0.3333333333333334,\n",
       " 0.3333333333333334,\n",
       " 0.3333333333333334,\n",
       " 0.3333333333333334,\n",
       " 0.3333333333333334,\n",
       " 0.3333333333333334,\n",
       " 0.3333333333333334,\n",
       " 0.3333333333333334,\n",
       " 0.3333333333333334,\n",
       " 0.3333333333333334,\n",
       " 0.3333333333333334,\n",
       " 0.3333333333333334,\n",
       " 0.3333333333333334,\n",
       " 0.3333333333333334,\n",
       " 0.3333333333333334,\n",
       " 0.3333333333333334,\n",
       " 0.3333333333333334,\n",
       " 0.3333333333333334,\n",
       " 0.3333333333333334,\n",
       " 0.3333333333333334,\n",
       " 0.3333333333333334,\n",
       " 0.3333333333333334,\n",
       " 0.3333333333333334,\n",
       " 0.3333333333333334,\n",
       " 0.3333333333333334,\n",
       " 0.3333333333333334,\n",
       " 0.3333333333333334,\n",
       " 0.3333333333333334,\n",
       " 0.3333333333333334,\n",
       " 0.3333333333333334,\n",
       " 0.3333333333333334,\n",
       " 0.3333333333333334,\n",
       " 0.3333333333333334,\n",
       " 0.3333333333333334,\n",
       " 0.3333333333333334,\n",
       " 0.3333333333333334,\n",
       " 0.3333333333333334,\n",
       " 0.3333333333333334,\n",
       " 0.3333333333333334,\n",
       " 0.3333333333333334,\n",
       " 0.3333333333333334,\n",
       " 0.3333333333333334,\n",
       " 0.3333333333333334,\n",
       " 0.3333333333333334,\n",
       " 0.3333333333333334,\n",
       " 0.3333333333333334,\n",
       " 0.3333333333333334,\n",
       " 0.3333333333333334,\n",
       " 0.3333333333333334,\n",
       " 0.3333333333333334,\n",
       " 0.3333333333333334,\n",
       " 0.3333333333333334,\n",
       " 0.3333333333333334,\n",
       " 0.3333333333333334,\n",
       " 0.3333333333333334,\n",
       " 0.3333333333333334,\n",
       " 0.3333333333333334,\n",
       " 0.3333333333333334,\n",
       " 0.3333333333333334,\n",
       " 0.3333333333333334,\n",
       " 0.3333333333333334,\n",
       " 0.3333333333333334,\n",
       " 0.3333333333333334,\n",
       " 0.3333333333333334,\n",
       " 0.3333333333333334,\n",
       " 0.3333333333333334,\n",
       " 0.3333333333333334,\n",
       " 0.3333333333333334,\n",
       " 0.3333333333333334,\n",
       " 0.3333333333333334,\n",
       " 0.3333333333333334,\n",
       " 0.3333333333333334,\n",
       " 0.3333333333333334,\n",
       " 0.3333333333333334,\n",
       " 0.3333333333333334,\n",
       " 0.3333333333333334,\n",
       " 0.3333333333333334,\n",
       " 0.3333333333333334,\n",
       " 0.3333333333333334,\n",
       " 0.3333333333333334,\n",
       " 0.3333333333333334,\n",
       " 0.3333333333333334,\n",
       " 0.3333333333333334,\n",
       " 0.3333333333333334,\n",
       " 0.3333333333333334,\n",
       " 0.3333333333333334,\n",
       " 0.3333333333333334,\n",
       " 0.3333333333333334,\n",
       " 0.3333333333333334,\n",
       " 0.3333333333333334,\n",
       " 0.3333333333333334,\n",
       " 0.3333333333333334,\n",
       " 0.3333333333333334,\n",
       " 0.3333333333333334,\n",
       " 0.3333333333333334,\n",
       " 0.3333333333333334,\n",
       " 0.3333333333333334,\n",
       " 0.3333333333333334,\n",
       " 0.3333333333333334,\n",
       " 0.3333333333333334,\n",
       " 0.3333333333333334,\n",
       " 0.3333333333333334,\n",
       " 0.3333333333333334,\n",
       " 0.3333333333333334,\n",
       " 0.3333333333333334,\n",
       " 0.3333333333333334,\n",
       " 0.3333333333333334,\n",
       " 0.3333333333333334,\n",
       " 0.3333333333333334,\n",
       " 0.3333333333333334,\n",
       " 0.3333333333333334,\n",
       " 0.3333333333333334,\n",
       " 0.3333333333333334,\n",
       " 0.3333333333333334,\n",
       " 0.3333333333333334,\n",
       " 0.3333333333333334,\n",
       " 0.3333333333333334,\n",
       " 0.3333333333333334,\n",
       " 0.3333333333333334,\n",
       " 0.3333333333333334,\n",
       " 0.3333333333333334,\n",
       " 0.3333333333333334,\n",
       " 0.3333333333333334,\n",
       " 0.3333333333333334,\n",
       " 0.3333333333333334,\n",
       " 0.3333333333333334,\n",
       " 0.3333333333333334,\n",
       " 0.3333333333333334,\n",
       " 0.3333333333333334,\n",
       " 0.3333333333333334,\n",
       " 0.3333333333333334,\n",
       " 0.3333333333333334,\n",
       " 0.3333333333333334,\n",
       " 0.3333333333333334,\n",
       " 0.3333333333333334,\n",
       " 0.3333333333333334,\n",
       " 0.3333333333333334,\n",
       " 0.3333333333333334,\n",
       " 0.3333333333333334,\n",
       " 0.3333333333333334,\n",
       " 0.3333333333333334,\n",
       " 0.3333333333333334,\n",
       " 0.3333333333333334,\n",
       " 0.3333333333333334,\n",
       " 0.3333333333333334,\n",
       " 0.3333333333333334,\n",
       " 0.3333333333333334,\n",
       " 0.3333333333333334,\n",
       " 0.3333333333333334,\n",
       " 0.3333333333333334,\n",
       " 0.3333333333333334,\n",
       " 0.3333333333333334,\n",
       " 0.3333333333333334,\n",
       " 0.3333333333333334,\n",
       " 0.3333333333333334,\n",
       " 0.3333333333333334,\n",
       " 0.3333333333333334,\n",
       " 0.3333333333333334,\n",
       " 0.3333333333333334,\n",
       " 0.3333333333333334,\n",
       " 0.3333333333333334,\n",
       " 0.3333333333333334,\n",
       " 0.3333333333333334,\n",
       " 0.3333333333333334,\n",
       " 0.3333333333333334,\n",
       " 0.3333333333333334,\n",
       " 0.3333333333333334,\n",
       " 0.3333333333333334,\n",
       " 0.3333333333333334,\n",
       " 0.3333333333333334,\n",
       " 0.3333333333333334,\n",
       " 0.3333333333333334,\n",
       " 0.3333333333333334,\n",
       " 0.3333333333333334,\n",
       " 0.3333333333333334,\n",
       " 0.3333333333333334,\n",
       " 0.3333333333333334,\n",
       " 0.3333333333333334,\n",
       " 0.3333333333333334,\n",
       " 0.3333333333333334,\n",
       " 0.3333333333333334,\n",
       " 0.3333333333333334,\n",
       " 0.3333333333333334,\n",
       " 0.3333333333333334,\n",
       " 0.3333333333333334,\n",
       " 0.3333333333333334,\n",
       " 0.3333333333333334,\n",
       " 0.3333333333333334,\n",
       " 0.3333333333333334,\n",
       " 0.3333333333333334,\n",
       " 0.3333333333333334,\n",
       " 0.3333333333333334,\n",
       " 0.3333333333333334,\n",
       " 0.3333333333333334,\n",
       " 0.3333333333333334,\n",
       " 0.3333333333333334,\n",
       " 0.3333333333333334,\n",
       " 0.3333333333333334,\n",
       " 0.3333333333333334,\n",
       " 0.3333333333333334,\n",
       " 0.3333333333333334,\n",
       " 0.3333333333333334,\n",
       " 0.3333333333333334,\n",
       " 0.3333333333333334,\n",
       " 0.3333333333333334,\n",
       " 0.3333333333333334,\n",
       " 0.3333333333333334,\n",
       " 0.3333333333333334,\n",
       " 0.3333333333333334,\n",
       " 0.3333333333333334,\n",
       " 0.3333333333333334,\n",
       " 0.3333333333333334,\n",
       " 0.3333333333333334,\n",
       " 0.3333333333333334,\n",
       " 0.3333333333333334,\n",
       " 0.3333333333333334,\n",
       " 0.3333333333333334,\n",
       " 0.3333333333333334,\n",
       " 0.3333333333333334,\n",
       " 0.3333333333333334,\n",
       " 0.3333333333333334,\n",
       " 0.2886751345948129,\n",
       " 0.2886751345948129,\n",
       " 0.2886751345948129,\n",
       " 0.2886751345948129,\n",
       " 0.2886751345948129,\n",
       " 0.2886751345948129,\n",
       " 0.2886751345948129,\n",
       " 0.2886751345948129,\n",
       " 0.2886751345948129,\n",
       " 0.2886751345948129,\n",
       " 0.2886751345948129,\n",
       " 0.2886751345948129,\n",
       " 0.2886751345948129,\n",
       " 0.2886751345948129,\n",
       " 0.2886751345948129,\n",
       " 0.2886751345948129,\n",
       " 0.2886751345948129,\n",
       " 0.2886751345948129,\n",
       " 0.2886751345948129,\n",
       " 0.2886751345948129,\n",
       " 0.2886751345948129,\n",
       " 0.2886751345948129,\n",
       " 0.2886751345948129,\n",
       " 0.2886751345948129,\n",
       " 0.2886751345948129,\n",
       " 0.2886751345948129,\n",
       " 0.2886751345948129,\n",
       " 0.2886751345948129,\n",
       " 0.2886751345948129,\n",
       " 0.2886751345948129,\n",
       " 0.2886751345948129,\n",
       " 0.2886751345948129,\n",
       " 0.2886751345948129,\n",
       " 0.2886751345948129,\n",
       " 0.2886751345948129,\n",
       " 0.2886751345948129,\n",
       " 0.2886751345948129,\n",
       " 0.2886751345948129,\n",
       " 0.2886751345948129,\n",
       " 0.2886751345948129,\n",
       " 0.2886751345948129,\n",
       " 0.2886751345948129,\n",
       " 0.2886751345948129,\n",
       " 0.2886751345948129,\n",
       " 0.2886751345948129,\n",
       " 0.2886751345948129,\n",
       " 0.2886751345948129,\n",
       " 0.2886751345948129,\n",
       " 0.2886751345948129,\n",
       " 0.2886751345948129,\n",
       " 0.2886751345948129,\n",
       " 0.2886751345948129,\n",
       " 0.2886751345948129,\n",
       " 0.2886751345948129,\n",
       " 0.2886751345948129,\n",
       " 0.2886751345948129,\n",
       " 0.2886751345948129,\n",
       " 0.2886751345948129,\n",
       " 0.2886751345948129,\n",
       " 0.2886751345948129,\n",
       " 0.2886751345948129,\n",
       " 0.2886751345948129,\n",
       " 0.2886751345948129,\n",
       " 0.2886751345948129,\n",
       " 0.2886751345948129,\n",
       " 0.2886751345948129,\n",
       " 0.2886751345948129,\n",
       " 0.2886751345948129,\n",
       " 0.2886751345948129,\n",
       " 0.2886751345948129,\n",
       " 0.2886751345948129,\n",
       " 0.2886751345948129,\n",
       " 0.2886751345948129,\n",
       " 0.2886751345948129,\n",
       " 0.2886751345948129,\n",
       " 0.2886751345948129,\n",
       " 0.2886751345948129,\n",
       " 0.2886751345948129,\n",
       " 0.2886751345948129,\n",
       " 0.2886751345948129,\n",
       " 0.2886751345948129,\n",
       " 0.2886751345948129,\n",
       " 0.2886751345948129,\n",
       " 0.2886751345948129,\n",
       " 0.2886751345948129,\n",
       " 0.2886751345948129,\n",
       " 0.2886751345948129,\n",
       " 0.2886751345948129,\n",
       " 0.2886751345948129,\n",
       " 0.2886751345948129,\n",
       " 0.2886751345948129,\n",
       " 0.2886751345948129,\n",
       " 0.2886751345948129,\n",
       " 0.2886751345948129,\n",
       " 0.2886751345948129,\n",
       " 0.2886751345948129,\n",
       " 0.2886751345948129,\n",
       " 0.2886751345948129,\n",
       " 0.2886751345948129,\n",
       " 0.2886751345948129,\n",
       " 0.2886751345948129,\n",
       " 0.2886751345948129,\n",
       " 0.2886751345948129,\n",
       " 0.2886751345948129,\n",
       " 0.2886751345948129,\n",
       " 0.2886751345948129,\n",
       " 0.2886751345948129,\n",
       " 0.2886751345948129,\n",
       " 0.2886751345948129,\n",
       " 0.2886751345948129,\n",
       " 0.2886751345948129,\n",
       " 0.2886751345948129,\n",
       " 0.2886751345948129,\n",
       " 0.2886751345948129,\n",
       " 0.2886751345948129,\n",
       " 0.2886751345948129,\n",
       " 0.2886751345948129,\n",
       " 0.2886751345948129,\n",
       " 0.2886751345948129,\n",
       " 0.2886751345948129,\n",
       " 0.2886751345948129,\n",
       " 0.2886751345948129,\n",
       " 0.2886751345948129,\n",
       " 0.2886751345948129,\n",
       " 0.2886751345948129,\n",
       " 0.2886751345948129,\n",
       " 0.2886751345948129,\n",
       " 0.2886751345948129,\n",
       " 0.2886751345948129,\n",
       " 0.2886751345948129,\n",
       " 0.2886751345948129,\n",
       " 0.2886751345948129,\n",
       " 0.2886751345948129,\n",
       " 0.2886751345948129,\n",
       " 0.2886751345948129,\n",
       " 0.2886751345948129,\n",
       " 0.2886751345948129,\n",
       " 0.2886751345948129,\n",
       " 0.2886751345948129,\n",
       " 0.2886751345948129,\n",
       " 0.2886751345948129,\n",
       " 0.2886751345948129,\n",
       " 0.2886751345948129,\n",
       " 0.2886751345948129,\n",
       " 0.2886751345948129,\n",
       " 0.2886751345948129,\n",
       " 0.2886751345948129,\n",
       " 0.2886751345948129,\n",
       " 0.2886751345948129,\n",
       " 0.2886751345948129,\n",
       " 0.2886751345948129,\n",
       " 0.2886751345948129,\n",
       " 0.2886751345948129,\n",
       " 0.2886751345948129,\n",
       " 0.2886751345948129,\n",
       " 0.2886751345948129,\n",
       " 0.2886751345948129,\n",
       " 0.2886751345948129,\n",
       " 0.2886751345948129,\n",
       " 0.2886751345948129,\n",
       " 0.2886751345948129,\n",
       " 0.2886751345948129,\n",
       " 0.2886751345948129,\n",
       " 0.2886751345948129,\n",
       " 0.2886751345948129,\n",
       " 0.2886751345948129,\n",
       " 0.2886751345948129,\n",
       " 0.2886751345948129,\n",
       " 0.2886751345948129,\n",
       " 0.2886751345948129,\n",
       " 0.2886751345948129,\n",
       " 0.2886751345948129,\n",
       " 0.2886751345948129,\n",
       " 0.2886751345948129,\n",
       " 0.2886751345948129,\n",
       " 0.2886751345948129,\n",
       " 0.2886751345948129,\n",
       " 0.2886751345948129,\n",
       " 0.2886751345948129,\n",
       " 0.2886751345948129,\n",
       " 0.2886751345948129,\n",
       " 0.2886751345948129,\n",
       " 0.2886751345948129,\n",
       " 0.2886751345948129,\n",
       " 0.2886751345948129,\n",
       " 0.2886751345948129,\n",
       " 0.2886751345948129,\n",
       " 0.2886751345948129,\n",
       " 0.2886751345948129,\n",
       " 0.2886751345948129,\n",
       " 0.2886751345948129,\n",
       " 0.2886751345948129,\n",
       " 0.2886751345948129,\n",
       " 0.2886751345948129,\n",
       " 0.2886751345948129,\n",
       " 0.2886751345948129,\n",
       " 0.2886751345948129,\n",
       " 0.2886751345948129,\n",
       " 0.2886751345948129,\n",
       " 0.2886751345948129,\n",
       " 0.2886751345948129,\n",
       " 0.2886751345948129,\n",
       " 0.2886751345948129,\n",
       " 0.2886751345948129,\n",
       " 0.2886751345948129,\n",
       " 0.2886751345948129,\n",
       " 0.2886751345948129,\n",
       " 0.2886751345948129,\n",
       " 0.2886751345948129,\n",
       " 0.2886751345948129,\n",
       " 0.2886751345948129,\n",
       " 0.2886751345948129,\n",
       " 0.2886751345948129,\n",
       " 0.2886751345948129,\n",
       " 0.2886751345948129,\n",
       " 0.2886751345948129,\n",
       " 0.2886751345948129,\n",
       " 0.2886751345948129,\n",
       " 0.2886751345948129,\n",
       " 0.2886751345948129,\n",
       " 0.2886751345948129,\n",
       " 0.25819888974716115,\n",
       " 0.25819888974716115,\n",
       " 0.25819888974716115,\n",
       " 0.25819888974716115,\n",
       " 0.25819888974716115,\n",
       " 0.25819888974716115,\n",
       " 0.25819888974716115,\n",
       " 0.25819888974716115,\n",
       " 0.25819888974716115,\n",
       " 0.25819888974716115,\n",
       " 0.25819888974716115,\n",
       " 0.25819888974716115,\n",
       " 0.25819888974716115,\n",
       " 0.25819888974716115,\n",
       " 0.25819888974716115,\n",
       " 0.25819888974716115,\n",
       " 0.25819888974716115,\n",
       " 0.25819888974716115,\n",
       " 0.25819888974716115,\n",
       " 0.25819888974716115,\n",
       " 0.25819888974716115,\n",
       " 0.25819888974716115,\n",
       " 0.25819888974716115,\n",
       " 0.25819888974716115,\n",
       " 0.25819888974716115,\n",
       " 0.25819888974716115,\n",
       " 0.25819888974716115,\n",
       " 0.25819888974716115,\n",
       " 0.25819888974716115,\n",
       " 0.25819888974716115,\n",
       " 0.25819888974716115,\n",
       " 0.25819888974716115,\n",
       " 0.25819888974716115,\n",
       " 0.25819888974716115,\n",
       " 0.25819888974716115,\n",
       " 0.25819888974716115,\n",
       " 0.25819888974716115,\n",
       " 0.25819888974716115,\n",
       " 0.25819888974716115,\n",
       " 0.25819888974716115,\n",
       " 0.25819888974716115,\n",
       " 0.25819888974716115,\n",
       " 0.25819888974716115,\n",
       " 0.25819888974716115,\n",
       " 0.25819888974716115,\n",
       " 0.25819888974716115,\n",
       " 0.25819888974716115,\n",
       " 0.25819888974716115,\n",
       " 0.25819888974716115,\n",
       " 0.25819888974716115,\n",
       " 0.25819888974716115,\n",
       " 0.25819888974716115,\n",
       " 0.25819888974716115,\n",
       " 0.25819888974716115,\n",
       " 0.25819888974716115,\n",
       " 0.25819888974716115,\n",
       " 0.25819888974716115,\n",
       " 0.25819888974716115,\n",
       " 0.25819888974716115,\n",
       " 0.25819888974716115,\n",
       " 0.25819888974716115,\n",
       " 0.25819888974716115,\n",
       " 0.25819888974716115,\n",
       " 0.25819888974716115,\n",
       " 0.25819888974716115,\n",
       " 0.25819888974716115,\n",
       " 0.25819888974716115,\n",
       " 0.25819888974716115,\n",
       " 0.25819888974716115,\n",
       " 0.25819888974716115,\n",
       " 0.25819888974716115,\n",
       " 0.25819888974716115,\n",
       " 0.25819888974716115,\n",
       " 0.25819888974716115,\n",
       " 0.25819888974716115,\n",
       " 0.25819888974716115,\n",
       " 0.25819888974716115,\n",
       " 0.25819888974716115,\n",
       " 0.25819888974716115,\n",
       " 0.25819888974716115,\n",
       " 0.25819888974716115,\n",
       " 0.25819888974716115,\n",
       " 0.25819888974716115,\n",
       " 0.25819888974716115,\n",
       " 0.25819888974716115,\n",
       " 0.25819888974716115,\n",
       " 0.25819888974716115,\n",
       " 0.25819888974716115,\n",
       " 0.25819888974716115,\n",
       " 0.25819888974716115,\n",
       " 0.25819888974716115,\n",
       " 0.25819888974716115,\n",
       " 0.25819888974716115,\n",
       " 0.2357022603955159,\n",
       " 0.2357022603955159,\n",
       " 0.2357022603955159,\n",
       " 0.2357022603955159,\n",
       " 0.2357022603955159,\n",
       " 0.2357022603955159,\n",
       " 0.2357022603955159,\n",
       " 0.2357022603955159,\n",
       " 0.2357022603955159,\n",
       " 0.2357022603955159,\n",
       " 0.2357022603955159,\n",
       " 0.2357022603955159,\n",
       " 0.2357022603955159,\n",
       " 0.2357022603955159,\n",
       " 0.2357022603955159,\n",
       " 0.2357022603955159,\n",
       " 0.2357022603955159,\n",
       " 0.2357022603955159,\n",
       " 0.2357022603955159,\n",
       " 0.2357022603955159,\n",
       " 0.2182178902359924,\n",
       " 0.2182178902359924,\n",
       " 0.2182178902359924,\n",
       " 0.2182178902359924,\n",
       " 0.0,\n",
       " 0.0,\n",
       " 0.0,\n",
       " 0.0,\n",
       " 0.0,\n",
       " 0.0,\n",
       " 0.0,\n",
       " 0.0,\n",
       " 0.0,\n",
       " 0.0,\n",
       " 0.0,\n",
       " 0.0,\n",
       " 0.0,\n",
       " 0.0,\n",
       " 0.0,\n",
       " 0.0,\n",
       " 0.0,\n",
       " 0.0,\n",
       " 0.0,\n",
       " 0.0,\n",
       " 0.0,\n",
       " 0.0,\n",
       " 0.0,\n",
       " 0.0,\n",
       " 0.0,\n",
       " 0.0,\n",
       " 0.0,\n",
       " 0.0,\n",
       " 0.0,\n",
       " 0.0,\n",
       " 0.0,\n",
       " 0.0,\n",
       " 0.0,\n",
       " 0.0,\n",
       " 0.0,\n",
       " 0.0,\n",
       " 0.0,\n",
       " 0.0,\n",
       " 0.0,\n",
       " 0.0,\n",
       " 0.0,\n",
       " 0.0,\n",
       " 0.0,\n",
       " 0.0,\n",
       " 0.0,\n",
       " 0.0,\n",
       " 0.0,\n",
       " 0.0,\n",
       " 0.0,\n",
       " 0.0,\n",
       " 0.0,\n",
       " 0.0,\n",
       " 0.0,\n",
       " 0.0,\n",
       " 0.0,\n",
       " 0.0,\n",
       " 0.0,\n",
       " 0.0,\n",
       " 0.0,\n",
       " 0.0,\n",
       " 0.0,\n",
       " 0.0,\n",
       " 0.0,\n",
       " 0.0,\n",
       " 0.0,\n",
       " 0.0,\n",
       " 0.0,\n",
       " 0.0,\n",
       " 0.0,\n",
       " 0.0,\n",
       " 0.0,\n",
       " 0.0,\n",
       " 0.0,\n",
       " 0.0,\n",
       " 0.0,\n",
       " 0.0,\n",
       " 0.0,\n",
       " 0.0,\n",
       " 0.0,\n",
       " 0.0,\n",
       " 0.0,\n",
       " 0.0,\n",
       " 0.0,\n",
       " 0.0,\n",
       " 0.0,\n",
       " 0.0,\n",
       " 0.0,\n",
       " 0.0,\n",
       " 0.0,\n",
       " 0.0,\n",
       " 0.0,\n",
       " 0.0,\n",
       " 0.0,\n",
       " 0.0,\n",
       " 0.0,\n",
       " 0.0,\n",
       " 0.0,\n",
       " 0.0,\n",
       " 0.0,\n",
       " 0.0,\n",
       " 0.0,\n",
       " 0.0,\n",
       " 0.0,\n",
       " 0.0,\n",
       " 0.0,\n",
       " 0.0,\n",
       " 0.0,\n",
       " 0.0,\n",
       " 0.0,\n",
       " 0.0,\n",
       " 0.0,\n",
       " 0.0,\n",
       " 0.0,\n",
       " 0.0,\n",
       " 0.0,\n",
       " 0.0,\n",
       " 0.0,\n",
       " 0.0,\n",
       " 0.0,\n",
       " 0.0,\n",
       " 0.0,\n",
       " 0.0,\n",
       " 0.0,\n",
       " 0.0,\n",
       " 0.0,\n",
       " 0.0,\n",
       " 0.0,\n",
       " 0.0,\n",
       " 0.0,\n",
       " 0.0,\n",
       " 0.0,\n",
       " 0.0,\n",
       " 0.0,\n",
       " 0.0,\n",
       " 0.0,\n",
       " 0.0,\n",
       " 0.0,\n",
       " 0.0,\n",
       " 0.0,\n",
       " 0.0,\n",
       " 0.0,\n",
       " 0.0,\n",
       " 0.0,\n",
       " 0.0,\n",
       " 0.0,\n",
       " 0.0,\n",
       " 0.0,\n",
       " 0.0,\n",
       " 0.0,\n",
       " 0.0,\n",
       " 0.0,\n",
       " 0.0,\n",
       " 0.0,\n",
       " 0.0,\n",
       " 0.0,\n",
       " 0.0,\n",
       " 0.0,\n",
       " 0.0,\n",
       " 0.0,\n",
       " 0.0,\n",
       " 0.0,\n",
       " 0.0,\n",
       " 0.0,\n",
       " 0.0,\n",
       " 0.0,\n",
       " 0.0,\n",
       " 0.0,\n",
       " 0.0,\n",
       " 0.0,\n",
       " 0.0,\n",
       " 0.0,\n",
       " 0.0,\n",
       " 0.0,\n",
       " 0.0,\n",
       " 0.0,\n",
       " 0.0,\n",
       " 0.0,\n",
       " 0.0,\n",
       " 0.0,\n",
       " 0.0,\n",
       " 0.0,\n",
       " 0.0,\n",
       " 0.0,\n",
       " 0.0,\n",
       " 0.0,\n",
       " 0.0,\n",
       " 0.0,\n",
       " 0.0,\n",
       " 0.0,\n",
       " 0.0,\n",
       " 0.0,\n",
       " 0.0,\n",
       " 0.0,\n",
       " 0.0,\n",
       " 0.0,\n",
       " 0.0,\n",
       " 0.0,\n",
       " 0.0,\n",
       " 0.0,\n",
       " 0.0,\n",
       " 0.0,\n",
       " 0.0,\n",
       " 0.0,\n",
       " 0.0,\n",
       " 0.0,\n",
       " 0.0,\n",
       " 0.0,\n",
       " 0.0,\n",
       " 0.0,\n",
       " 0.0,\n",
       " 0.0,\n",
       " 0.0,\n",
       " 0.0,\n",
       " 0.0,\n",
       " 0.0,\n",
       " 0.0,\n",
       " 0.0,\n",
       " 0.0,\n",
       " 0.0,\n",
       " 0.0,\n",
       " 0.0,\n",
       " 0.0,\n",
       " 0.0,\n",
       " 0.0,\n",
       " 0.0,\n",
       " 0.0,\n",
       " 0.0,\n",
       " 0.0,\n",
       " 0.0,\n",
       " 0.0,\n",
       " 0.0,\n",
       " 0.0,\n",
       " 0.0,\n",
       " 0.0,\n",
       " 0.0,\n",
       " 0.0,\n",
       " 0.0,\n",
       " 0.0,\n",
       " 0.0,\n",
       " 0.0,\n",
       " 0.0,\n",
       " 0.0,\n",
       " 0.0,\n",
       " 0.0,\n",
       " 0.0,\n",
       " 0.0,\n",
       " 0.0,\n",
       " 0.0,\n",
       " 0.0,\n",
       " 0.0,\n",
       " ...]"
      ]
     },
     "execution_count": 122,
     "metadata": {},
     "output_type": "execute_result"
    }
   ],
   "source": [
    "sorted(similarity[0],reverse=True)#sorting the music which are similar"
   ]
  },
  {
   "cell_type": "code",
   "execution_count": 97,
   "id": "6b3a7471",
   "metadata": {
    "ExecuteTime": {
     "end_time": "2022-03-13T16:09:08.136161Z",
     "start_time": "2022-03-13T16:09:08.123989Z"
    }
   },
   "outputs": [],
   "source": [
    "#sorted(list(enumerate(similarity[0])),reverse=True,key = lambda x: x[1])[1:6]"
   ]
  },
  {
   "cell_type": "markdown",
   "id": "326bc28f",
   "metadata": {},
   "source": [
    "# Here we are creating function name recommend\n",
    "1."
   ]
  },
  {
   "cell_type": "code",
   "execution_count": 126,
   "id": "fd96dfd4",
   "metadata": {
    "ExecuteTime": {
     "end_time": "2022-03-13T16:17:56.004021Z",
     "start_time": "2022-03-13T16:17:55.986169Z"
    }
   },
   "outputs": [],
   "source": [
    "def recommend(music):\n",
    "    music_index=df[df['songs']==music].index[0]# Fetching the Index of genere\n",
    "    distances = similarity[music_index]#finding the distance\n",
    "    music_List = sorted(list(enumerate(distances)),reverse=True,key = lambda x: x[1])[1:8]#with distance index postion got and then we are sorting\n",
    "    for i in music_List:\n",
    "        print(df.iloc[i[0]].songs)# fetching songs genere from idex number\n",
    "        #print(i[0])\n"
   ]
  },
  {
   "cell_type": "code",
   "execution_count": 136,
   "id": "50dc4c40",
   "metadata": {
    "ExecuteTime": {
     "end_time": "2022-03-13T17:04:00.895129Z",
     "start_time": "2022-03-13T17:04:00.728304Z"
    }
   },
   "outputs": [
    {
     "name": "stdout",
     "output_type": "stream",
     "text": [
      "Relax-TomyJiz\n",
      "A Relaxed-WannakiSound\n",
      "Relaxed-music_waves_production\n",
      "Relaxed-MusicEverest\n",
      "Relaxed-8thModeMusic\n",
      "Relaxed-AlexanderRufire\n",
      "Relaxed-MrRevant\n"
     ]
    }
   ],
   "source": [
    "recommend('Relaxed-TomyJiz')"
   ]
  },
  {
   "cell_type": "code",
   "execution_count": 100,
   "id": "d83268d6",
   "metadata": {
    "ExecuteTime": {
     "end_time": "2022-03-13T16:09:08.181222Z",
     "start_time": "2022-03-13T16:09:08.168468Z"
    }
   },
   "outputs": [],
   "source": [
    "#df.iloc[715].Genere"
   ]
  },
  {
   "cell_type": "code",
   "execution_count": 128,
   "id": "e4a32a93",
   "metadata": {
    "ExecuteTime": {
     "end_time": "2022-03-13T16:18:01.915938Z",
     "start_time": "2022-03-13T16:18:01.909518Z"
    }
   },
   "outputs": [],
   "source": [
    "import pickle"
   ]
  },
  {
   "cell_type": "code",
   "execution_count": 129,
   "id": "a4c988ac",
   "metadata": {
    "ExecuteTime": {
     "end_time": "2022-03-13T16:18:04.030011Z",
     "start_time": "2022-03-13T16:18:04.009687Z"
    }
   },
   "outputs": [],
   "source": [
    "pickle.dump(df,open('music.pkl','wb'))"
   ]
  },
  {
   "cell_type": "code",
   "execution_count": 137,
   "id": "61152f4e",
   "metadata": {
    "ExecuteTime": {
     "end_time": "2022-03-13T17:09:45.472904Z",
     "start_time": "2022-03-13T17:09:45.434085Z"
    }
   },
   "outputs": [
    {
     "data": {
      "text/plain": [
       "array(['Relaxing Synth-AlexBoshMusic', 'Relax-TomyJiz', 'Relaxed-TomyJiz',\n",
       "       ..., 'Relax Latin Guitar-Dredstudio',\n",
       "       'Relaxing Bossa-PublicityMaster',\n",
       "       'Relaxing In The Hammock-BenHaberAudio'], dtype=object)"
      ]
     },
     "execution_count": 137,
     "metadata": {},
     "output_type": "execute_result"
    }
   ],
   "source": [
    "df['songs'].values"
   ]
  },
  {
   "cell_type": "code",
   "execution_count": 138,
   "id": "3bdcc388",
   "metadata": {
    "ExecuteTime": {
     "end_time": "2022-03-13T17:09:47.775775Z",
     "start_time": "2022-03-13T17:09:47.754494Z"
    }
   },
   "outputs": [],
   "source": [
    "pickle.dump(df.to_dict(),open('songs_dict.pkl','wb'))"
   ]
  },
  {
   "cell_type": "code",
   "execution_count": 139,
   "id": "46cd9583",
   "metadata": {
    "ExecuteTime": {
     "end_time": "2022-03-13T17:09:49.727316Z",
     "start_time": "2022-03-13T17:09:49.677854Z"
    }
   },
   "outputs": [],
   "source": [
    "pickle.dump(similarity,open('similarity.pkl','wb'))"
   ]
  },
  {
   "cell_type": "code",
   "execution_count": null,
   "id": "9272a8e9",
   "metadata": {},
   "outputs": [],
   "source": []
  }
 ],
 "metadata": {
  "kernelspec": {
   "display_name": "Python 3",
   "language": "python",
   "name": "python3"
  },
  "language_info": {
   "codemirror_mode": {
    "name": "ipython",
    "version": 3
   },
   "file_extension": ".py",
   "mimetype": "text/x-python",
   "name": "python",
   "nbconvert_exporter": "python",
   "pygments_lexer": "ipython3",
   "version": "3.8.8"
  }
 },
 "nbformat": 4,
 "nbformat_minor": 5
}
